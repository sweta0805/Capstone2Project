{
 "cells": [
  {
   "cell_type": "markdown",
   "metadata": {},
   "source": [
    "# Imports"
   ]
  },
  {
   "cell_type": "code",
   "execution_count": 1,
   "metadata": {},
   "outputs": [],
   "source": [
    "import pandas as pd\n",
    "import numpy as np\n",
    "import matplotlib.pyplot as plt\n",
    "import seaborn as sns\n",
    "import os\n",
    "from sklearn.linear_model import LinearRegression\n",
    "from sklearn.linear_model import Ridge\n",
    "from sklearn.linear_model import RidgeCV\n",
    "from sklearn.linear_model import Lasso\n",
    "from sklearn.model_selection import cross_val_score\n",
    "from sklearn import svm\n",
    "from sklearn.metrics import mean_squared_error\n",
    "from sklearn.model_selection import train_test_split, GridSearchCV\n",
    "import graphviz"
   ]
  },
  {
   "cell_type": "markdown",
   "metadata": {},
   "source": [
    "# Data Load"
   ]
  },
  {
   "cell_type": "code",
   "execution_count": 2,
   "metadata": {},
   "outputs": [
    {
     "data": {
      "text/html": [
       "<div>\n",
       "<style scoped>\n",
       "    .dataframe tbody tr th:only-of-type {\n",
       "        vertical-align: middle;\n",
       "    }\n",
       "\n",
       "    .dataframe tbody tr th {\n",
       "        vertical-align: top;\n",
       "    }\n",
       "\n",
       "    .dataframe thead th {\n",
       "        text-align: right;\n",
       "    }\n",
       "</style>\n",
       "<table border=\"1\" class=\"dataframe\">\n",
       "  <thead>\n",
       "    <tr style=\"text-align: right;\">\n",
       "      <th></th>\n",
       "      <th>Location State_ CA</th>\n",
       "      <th>Location State_ NY</th>\n",
       "      <th>Location City_San Diego</th>\n",
       "      <th>Founded</th>\n",
       "      <th>Location City_Los Angeles</th>\n",
       "      <th>Job Title_Data Scientist</th>\n",
       "      <th>Job Title_Data Analyst</th>\n",
       "      <th>Job Title_Data Engineer</th>\n",
       "      <th>Location City_Austin</th>\n",
       "      <th>Location City_Burbank</th>\n",
       "      <th>...</th>\n",
       "      <th>Rating_3</th>\n",
       "      <th>Sector_Business Services</th>\n",
       "      <th>Sector_Unknown</th>\n",
       "      <th>Type of ownership_Company - Private</th>\n",
       "      <th>Revenue_$100 to $500 million (USD)</th>\n",
       "      <th>Rating_4</th>\n",
       "      <th>Revenue_$10+ billion (USD)</th>\n",
       "      <th>Headquarters_Chicago, IL</th>\n",
       "      <th>Location State_ IL</th>\n",
       "      <th>Est_Salary</th>\n",
       "    </tr>\n",
       "  </thead>\n",
       "  <tbody>\n",
       "    <tr>\n",
       "      <th>0</th>\n",
       "      <td>0</td>\n",
       "      <td>1</td>\n",
       "      <td>0</td>\n",
       "      <td>2007</td>\n",
       "      <td>0</td>\n",
       "      <td>1</td>\n",
       "      <td>0</td>\n",
       "      <td>0</td>\n",
       "      <td>0</td>\n",
       "      <td>0</td>\n",
       "      <td>...</td>\n",
       "      <td>1</td>\n",
       "      <td>0</td>\n",
       "      <td>0</td>\n",
       "      <td>1</td>\n",
       "      <td>0</td>\n",
       "      <td>0</td>\n",
       "      <td>0</td>\n",
       "      <td>0</td>\n",
       "      <td>0</td>\n",
       "      <td>146.0</td>\n",
       "    </tr>\n",
       "    <tr>\n",
       "      <th>1</th>\n",
       "      <td>0</td>\n",
       "      <td>1</td>\n",
       "      <td>0</td>\n",
       "      <td>2008</td>\n",
       "      <td>0</td>\n",
       "      <td>1</td>\n",
       "      <td>0</td>\n",
       "      <td>0</td>\n",
       "      <td>0</td>\n",
       "      <td>0</td>\n",
       "      <td>...</td>\n",
       "      <td>0</td>\n",
       "      <td>0</td>\n",
       "      <td>0</td>\n",
       "      <td>1</td>\n",
       "      <td>0</td>\n",
       "      <td>1</td>\n",
       "      <td>0</td>\n",
       "      <td>0</td>\n",
       "      <td>0</td>\n",
       "      <td>146.0</td>\n",
       "    </tr>\n",
       "    <tr>\n",
       "      <th>2</th>\n",
       "      <td>0</td>\n",
       "      <td>1</td>\n",
       "      <td>0</td>\n",
       "      <td>1976</td>\n",
       "      <td>0</td>\n",
       "      <td>0</td>\n",
       "      <td>0</td>\n",
       "      <td>0</td>\n",
       "      <td>0</td>\n",
       "      <td>0</td>\n",
       "      <td>...</td>\n",
       "      <td>1</td>\n",
       "      <td>0</td>\n",
       "      <td>1</td>\n",
       "      <td>0</td>\n",
       "      <td>0</td>\n",
       "      <td>0</td>\n",
       "      <td>0</td>\n",
       "      <td>0</td>\n",
       "      <td>0</td>\n",
       "      <td>146.0</td>\n",
       "    </tr>\n",
       "    <tr>\n",
       "      <th>3</th>\n",
       "      <td>0</td>\n",
       "      <td>0</td>\n",
       "      <td>0</td>\n",
       "      <td>2019</td>\n",
       "      <td>0</td>\n",
       "      <td>0</td>\n",
       "      <td>1</td>\n",
       "      <td>0</td>\n",
       "      <td>0</td>\n",
       "      <td>0</td>\n",
       "      <td>...</td>\n",
       "      <td>1</td>\n",
       "      <td>0</td>\n",
       "      <td>0</td>\n",
       "      <td>1</td>\n",
       "      <td>0</td>\n",
       "      <td>0</td>\n",
       "      <td>0</td>\n",
       "      <td>0</td>\n",
       "      <td>0</td>\n",
       "      <td>146.0</td>\n",
       "    </tr>\n",
       "    <tr>\n",
       "      <th>4</th>\n",
       "      <td>0</td>\n",
       "      <td>1</td>\n",
       "      <td>0</td>\n",
       "      <td>2007</td>\n",
       "      <td>0</td>\n",
       "      <td>0</td>\n",
       "      <td>0</td>\n",
       "      <td>0</td>\n",
       "      <td>0</td>\n",
       "      <td>0</td>\n",
       "      <td>...</td>\n",
       "      <td>1</td>\n",
       "      <td>1</td>\n",
       "      <td>0</td>\n",
       "      <td>1</td>\n",
       "      <td>0</td>\n",
       "      <td>0</td>\n",
       "      <td>0</td>\n",
       "      <td>0</td>\n",
       "      <td>0</td>\n",
       "      <td>146.0</td>\n",
       "    </tr>\n",
       "  </tbody>\n",
       "</table>\n",
       "<p>5 rows × 26 columns</p>\n",
       "</div>"
      ],
      "text/plain": [
       "   Location State_ CA  Location State_ NY  Location City_San Diego  Founded  \\\n",
       "0                   0                   1                        0     2007   \n",
       "1                   0                   1                        0     2008   \n",
       "2                   0                   1                        0     1976   \n",
       "3                   0                   0                        0     2019   \n",
       "4                   0                   1                        0     2007   \n",
       "\n",
       "   Location City_Los Angeles  Job Title_Data Scientist  \\\n",
       "0                          0                         1   \n",
       "1                          0                         1   \n",
       "2                          0                         0   \n",
       "3                          0                         0   \n",
       "4                          0                         0   \n",
       "\n",
       "   Job Title_Data Analyst  Job Title_Data Engineer  Location City_Austin  \\\n",
       "0                       0                        0                     0   \n",
       "1                       0                        0                     0   \n",
       "2                       0                        0                     0   \n",
       "3                       1                        0                     0   \n",
       "4                       0                        0                     0   \n",
       "\n",
       "   Location City_Burbank  ...  Rating_3  Sector_Business Services  \\\n",
       "0                      0  ...         1                         0   \n",
       "1                      0  ...         0                         0   \n",
       "2                      0  ...         1                         0   \n",
       "3                      0  ...         1                         0   \n",
       "4                      0  ...         1                         1   \n",
       "\n",
       "   Sector_Unknown  Type of ownership_Company - Private  \\\n",
       "0               0                                    1   \n",
       "1               0                                    1   \n",
       "2               1                                    0   \n",
       "3               0                                    1   \n",
       "4               0                                    1   \n",
       "\n",
       "   Revenue_$100 to $500 million (USD)  Rating_4  Revenue_$10+ billion (USD)  \\\n",
       "0                                   0         0                           0   \n",
       "1                                   0         1                           0   \n",
       "2                                   0         0                           0   \n",
       "3                                   0         0                           0   \n",
       "4                                   0         0                           0   \n",
       "\n",
       "   Headquarters_Chicago, IL  Location State_ IL  Est_Salary  \n",
       "0                         0                   0       146.0  \n",
       "1                         0                   0       146.0  \n",
       "2                         0                   0       146.0  \n",
       "3                         0                   0       146.0  \n",
       "4                         0                   0       146.0  \n",
       "\n",
       "[5 rows x 26 columns]"
      ]
     },
     "execution_count": 2,
     "metadata": {},
     "output_type": "execute_result"
    }
   ],
   "source": [
    "df = pd.read_csv('raw_data/datascientist_data_step4_features.csv')\n",
    "df.head()"
   ]
  },
  {
   "cell_type": "markdown",
   "metadata": {},
   "source": [
    "# Train-Test Split"
   ]
  },
  {
   "cell_type": "markdown",
   "metadata": {},
   "source": [
    "Training and Test Datasets\n",
    "When fitting models, we would like to ensure two things:\n",
    "\n",
    "We have found the best model (in terms of model parameters).\n",
    "The model is highly likely to generalize i.e. perform well on unseen data."
   ]
  },
  {
   "cell_type": "markdown",
   "metadata": {},
   "source": [
    "Purpose of splitting data into Training/testing sets\n",
    "We built our model with the requirement that the model fit the data well.\n",
    "As a side-effect, the model will fit THIS dataset well. What about new data?\n",
    "We wanted the model for predictions, right?\n",
    "One simple solution, leave out some data (for testing) and train the model on the rest"
   ]
  },
  {
   "cell_type": "code",
   "execution_count": 3,
   "metadata": {},
   "outputs": [],
   "source": [
    "y = df['Est_Salary']\n",
    "X = df.drop(['Est_Salary'],axis=1, inplace=False)"
   ]
  },
  {
   "cell_type": "code",
   "execution_count": 4,
   "metadata": {
    "scrolled": true
   },
   "outputs": [
    {
     "data": {
      "text/html": [
       "<div>\n",
       "<style scoped>\n",
       "    .dataframe tbody tr th:only-of-type {\n",
       "        vertical-align: middle;\n",
       "    }\n",
       "\n",
       "    .dataframe tbody tr th {\n",
       "        vertical-align: top;\n",
       "    }\n",
       "\n",
       "    .dataframe thead th {\n",
       "        text-align: right;\n",
       "    }\n",
       "</style>\n",
       "<table border=\"1\" class=\"dataframe\">\n",
       "  <thead>\n",
       "    <tr style=\"text-align: right;\">\n",
       "      <th></th>\n",
       "      <th>Location State_ CA</th>\n",
       "      <th>Location State_ NY</th>\n",
       "      <th>Location City_San Diego</th>\n",
       "      <th>Founded</th>\n",
       "      <th>Location City_Los Angeles</th>\n",
       "      <th>Job Title_Data Scientist</th>\n",
       "      <th>Job Title_Data Analyst</th>\n",
       "      <th>Job Title_Data Engineer</th>\n",
       "      <th>Location City_Austin</th>\n",
       "      <th>Location City_Burbank</th>\n",
       "      <th>...</th>\n",
       "      <th>Type of ownership_Company - Public</th>\n",
       "      <th>Rating_3</th>\n",
       "      <th>Sector_Business Services</th>\n",
       "      <th>Sector_Unknown</th>\n",
       "      <th>Type of ownership_Company - Private</th>\n",
       "      <th>Revenue_$100 to $500 million (USD)</th>\n",
       "      <th>Rating_4</th>\n",
       "      <th>Revenue_$10+ billion (USD)</th>\n",
       "      <th>Headquarters_Chicago, IL</th>\n",
       "      <th>Location State_ IL</th>\n",
       "    </tr>\n",
       "  </thead>\n",
       "  <tbody>\n",
       "    <tr>\n",
       "      <th>3485</th>\n",
       "      <td>0</td>\n",
       "      <td>0</td>\n",
       "      <td>0</td>\n",
       "      <td>1983</td>\n",
       "      <td>0</td>\n",
       "      <td>1</td>\n",
       "      <td>0</td>\n",
       "      <td>0</td>\n",
       "      <td>1</td>\n",
       "      <td>0</td>\n",
       "      <td>...</td>\n",
       "      <td>0</td>\n",
       "      <td>1</td>\n",
       "      <td>1</td>\n",
       "      <td>0</td>\n",
       "      <td>1</td>\n",
       "      <td>0</td>\n",
       "      <td>0</td>\n",
       "      <td>0</td>\n",
       "      <td>0</td>\n",
       "      <td>0</td>\n",
       "    </tr>\n",
       "    <tr>\n",
       "      <th>1456</th>\n",
       "      <td>0</td>\n",
       "      <td>0</td>\n",
       "      <td>0</td>\n",
       "      <td>1983</td>\n",
       "      <td>0</td>\n",
       "      <td>0</td>\n",
       "      <td>0</td>\n",
       "      <td>1</td>\n",
       "      <td>0</td>\n",
       "      <td>0</td>\n",
       "      <td>...</td>\n",
       "      <td>1</td>\n",
       "      <td>1</td>\n",
       "      <td>0</td>\n",
       "      <td>0</td>\n",
       "      <td>0</td>\n",
       "      <td>0</td>\n",
       "      <td>0</td>\n",
       "      <td>0</td>\n",
       "      <td>0</td>\n",
       "      <td>0</td>\n",
       "    </tr>\n",
       "    <tr>\n",
       "      <th>2912</th>\n",
       "      <td>1</td>\n",
       "      <td>0</td>\n",
       "      <td>0</td>\n",
       "      <td>2014</td>\n",
       "      <td>0</td>\n",
       "      <td>1</td>\n",
       "      <td>0</td>\n",
       "      <td>0</td>\n",
       "      <td>0</td>\n",
       "      <td>0</td>\n",
       "      <td>...</td>\n",
       "      <td>1</td>\n",
       "      <td>0</td>\n",
       "      <td>0</td>\n",
       "      <td>0</td>\n",
       "      <td>0</td>\n",
       "      <td>0</td>\n",
       "      <td>1</td>\n",
       "      <td>0</td>\n",
       "      <td>0</td>\n",
       "      <td>0</td>\n",
       "    </tr>\n",
       "    <tr>\n",
       "      <th>1081</th>\n",
       "      <td>0</td>\n",
       "      <td>0</td>\n",
       "      <td>0</td>\n",
       "      <td>1976</td>\n",
       "      <td>0</td>\n",
       "      <td>1</td>\n",
       "      <td>0</td>\n",
       "      <td>0</td>\n",
       "      <td>0</td>\n",
       "      <td>0</td>\n",
       "      <td>...</td>\n",
       "      <td>0</td>\n",
       "      <td>0</td>\n",
       "      <td>0</td>\n",
       "      <td>0</td>\n",
       "      <td>0</td>\n",
       "      <td>0</td>\n",
       "      <td>1</td>\n",
       "      <td>0</td>\n",
       "      <td>0</td>\n",
       "      <td>0</td>\n",
       "    </tr>\n",
       "    <tr>\n",
       "      <th>568</th>\n",
       "      <td>1</td>\n",
       "      <td>0</td>\n",
       "      <td>0</td>\n",
       "      <td>1979</td>\n",
       "      <td>0</td>\n",
       "      <td>1</td>\n",
       "      <td>0</td>\n",
       "      <td>0</td>\n",
       "      <td>0</td>\n",
       "      <td>0</td>\n",
       "      <td>...</td>\n",
       "      <td>0</td>\n",
       "      <td>1</td>\n",
       "      <td>0</td>\n",
       "      <td>0</td>\n",
       "      <td>0</td>\n",
       "      <td>0</td>\n",
       "      <td>0</td>\n",
       "      <td>0</td>\n",
       "      <td>0</td>\n",
       "      <td>0</td>\n",
       "    </tr>\n",
       "  </tbody>\n",
       "</table>\n",
       "<p>5 rows × 25 columns</p>\n",
       "</div>"
      ],
      "text/plain": [
       "      Location State_ CA  Location State_ NY  Location City_San Diego  \\\n",
       "3485                   0                   0                        0   \n",
       "1456                   0                   0                        0   \n",
       "2912                   1                   0                        0   \n",
       "1081                   0                   0                        0   \n",
       "568                    1                   0                        0   \n",
       "\n",
       "      Founded  Location City_Los Angeles  Job Title_Data Scientist  \\\n",
       "3485     1983                          0                         1   \n",
       "1456     1983                          0                         0   \n",
       "2912     2014                          0                         1   \n",
       "1081     1976                          0                         1   \n",
       "568      1979                          0                         1   \n",
       "\n",
       "      Job Title_Data Analyst  Job Title_Data Engineer  Location City_Austin  \\\n",
       "3485                       0                        0                     1   \n",
       "1456                       0                        1                     0   \n",
       "2912                       0                        0                     0   \n",
       "1081                       0                        0                     0   \n",
       "568                        0                        0                     0   \n",
       "\n",
       "      Location City_Burbank  ...  Type of ownership_Company - Public  \\\n",
       "3485                      0  ...                                   0   \n",
       "1456                      0  ...                                   1   \n",
       "2912                      0  ...                                   1   \n",
       "1081                      0  ...                                   0   \n",
       "568                       0  ...                                   0   \n",
       "\n",
       "      Rating_3  Sector_Business Services  Sector_Unknown  \\\n",
       "3485         1                         1               0   \n",
       "1456         1                         0               0   \n",
       "2912         0                         0               0   \n",
       "1081         0                         0               0   \n",
       "568          1                         0               0   \n",
       "\n",
       "      Type of ownership_Company - Private  Revenue_$100 to $500 million (USD)  \\\n",
       "3485                                    1                                   0   \n",
       "1456                                    0                                   0   \n",
       "2912                                    0                                   0   \n",
       "1081                                    0                                   0   \n",
       "568                                     0                                   0   \n",
       "\n",
       "      Rating_4  Revenue_$10+ billion (USD)  Headquarters_Chicago, IL  \\\n",
       "3485         0                           0                         0   \n",
       "1456         0                           0                         0   \n",
       "2912         1                           0                         0   \n",
       "1081         1                           0                         0   \n",
       "568          0                           0                         0   \n",
       "\n",
       "      Location State_ IL  \n",
       "3485                   0  \n",
       "1456                   0  \n",
       "2912                   0  \n",
       "1081                   0  \n",
       "568                    0  \n",
       "\n",
       "[5 rows x 25 columns]"
      ]
     },
     "execution_count": 4,
     "metadata": {},
     "output_type": "execute_result"
    }
   ],
   "source": [
    "X_train, X_test, y_train, y_test = train_test_split(X,y,test_size=0.2,random_state=47)    \n",
    "X_train.head()"
   ]
  },
  {
   "cell_type": "code",
   "execution_count": 5,
   "metadata": {},
   "outputs": [
    {
     "data": {
      "text/plain": [
       "((3127, 25), (782, 25))"
      ]
     },
     "execution_count": 5,
     "metadata": {},
     "output_type": "execute_result"
    }
   ],
   "source": [
    "X_train.shape, X_test.shape"
   ]
  },
  {
   "cell_type": "code",
   "execution_count": 6,
   "metadata": {},
   "outputs": [
    {
     "data": {
      "text/plain": [
       "((3127,), (782,))"
      ]
     },
     "execution_count": 6,
     "metadata": {},
     "output_type": "execute_result"
    }
   ],
   "source": [
    "y_train.shape,y_test.shape"
   ]
  },
  {
   "cell_type": "markdown",
   "metadata": {},
   "source": [
    "# Use K Fold cross validation to measure accuracy of our Linear Regression model"
   ]
  },
  {
   "cell_type": "markdown",
   "metadata": {},
   "source": [
    "Tuning the Model\n",
    "The model has some hyperparameters we can tune for hopefully better performance. For tuning the parameters of model, i m using mix of cross-validation and grid search. In Logistic Regression, the most important parameter to tune is the regularization parameter C. Note that the regularization parameter is not always part of the logistic regression model.\n",
    "\n",
    "The regularization parameter is used to control for unlikely high regression coefficients, and in other cases can be used when data is sparse, as a method of feature selection.\n",
    "\n",
    "Now implement some code to perform model tuning and selecting the regularization parameter $C$.\n",
    "\n",
    "We use the following cv_score function to perform K-fold cross-validation and apply a scoring function to each test fold. In this incarnation we use accuracy score as the default scoring function."
   ]
  },
  {
   "cell_type": "code",
   "execution_count": 7,
   "metadata": {},
   "outputs": [
    {
     "data": {
      "text/plain": [
       "array([0.3806842 , 0.33628592, 0.35909302, 0.28620002, 0.37204797,\n",
       "       0.35228094, 0.30227338, 0.37977985, 0.31795785, 0.35919366])"
      ]
     },
     "execution_count": 7,
     "metadata": {},
     "output_type": "execute_result"
    }
   ],
   "source": [
    "from sklearn.model_selection import ShuffleSplit\n",
    "from sklearn.model_selection import cross_val_score\n",
    "\n",
    "cv = ShuffleSplit(n_splits=10, test_size=0.2, random_state=0)\n",
    "\n",
    "cross_val_score(LinearRegression(), X, y, cv=cv)"
   ]
  },
  {
   "cell_type": "markdown",
   "metadata": {},
   "source": [
    "## Ridge Regression"
   ]
  },
  {
   "cell_type": "code",
   "execution_count": 8,
   "metadata": {},
   "outputs": [
    {
     "name": "stdout",
     "output_type": "stream",
     "text": [
      "\n",
      "Model Accuracy:-  22.533646460681556 %\n",
      "\n",
      "Test Data Accuracy:-  24.502296097464914 %\n"
     ]
    }
   ],
   "source": [
    "# define model\n",
    "ridge = Ridge(alpha=1.0, normalize=True)\n",
    "ridge.fit(X_train, y_train)\n",
    "ridge_pred = ridge.predict(X_test)\n",
    "#ridge.score(X_test, y_test)\n",
    "#accuracy\n",
    "accuracy = ridge.score(X_train,y_train)\n",
    "print('\\nModel Accuracy:- ', accuracy*100,'%')\n",
    "\n",
    "accuracy = ridge.score(X_test,y_test)\n",
    "print('\\nTest Data Accuracy:- ', accuracy*100,'%')"
   ]
  },
  {
   "cell_type": "markdown",
   "metadata": {},
   "source": [
    "Ridge Regression gives us accuracy of 24% on test data"
   ]
  },
  {
   "cell_type": "code",
   "execution_count": 9,
   "metadata": {},
   "outputs": [],
   "source": [
    "def mae(y, ypred):\n",
    "    \"\"\"Mean absolute error.\n",
    "    \n",
    "    Calculate the mean absolute error of the arguments\n",
    "\n",
    "    Arguments:\n",
    "    y -- the observed values\n",
    "    predction -- the predicted values\n",
    "    What exactly does ‘ERROR’ in this metric mean ?\n",
    "    Prediction Error => Actual Value - Predicted Value\n",
    "    \"\"\"\n",
    "    abs_error = np.abs(y - ypred)\n",
    "    mae = np.mean(abs_error)\n",
    "    return mae"
   ]
  },
  {
   "cell_type": "code",
   "execution_count": 10,
   "metadata": {},
   "outputs": [
    {
     "data": {
      "text/plain": [
       "27.689620526451304"
      ]
     },
     "execution_count": 10,
     "metadata": {},
     "output_type": "execute_result"
    }
   ],
   "source": [
    "mae(y_test,ridge_pred )"
   ]
  },
  {
   "cell_type": "markdown",
   "metadata": {},
   "source": [
    "#### Mean absolute percentage Accuracy (MAPE)"
   ]
  },
  {
   "cell_type": "code",
   "execution_count": 11,
   "metadata": {},
   "outputs": [],
   "source": [
    "errors = abs(ridge_pred - y_test)"
   ]
  },
  {
   "cell_type": "code",
   "execution_count": 12,
   "metadata": {},
   "outputs": [
    {
     "name": "stdout",
     "output_type": "stream",
     "text": [
      "Mean absolute percentage Accuracy (MAPE): 69.77 %.\n",
      "Mean absolute percentage error (MAPE): 30.23 %.\n"
     ]
    }
   ],
   "source": [
    "# Calculate mean absolute percentage error (MAPE)\n",
    "mape = 100 * (errors / y_test)\n",
    "# Calculate and display accuracy\n",
    "accuracy = 100 - np.mean(mape)\n",
    "print('Mean absolute percentage Accuracy (MAPE):', round(accuracy, 2), '%.')\n",
    "print('Mean absolute percentage error (MAPE):', round(np.mean(mape), 2), '%.')"
   ]
  },
  {
   "cell_type": "markdown",
   "metadata": {},
   "source": [
    "### Mean Squared Error"
   ]
  },
  {
   "cell_type": "code",
   "execution_count": 13,
   "metadata": {},
   "outputs": [
    {
     "name": "stdout",
     "output_type": "stream",
     "text": [
      "1102.9469620650489\n"
     ]
    }
   ],
   "source": [
    "from sklearn.metrics import mean_squared_error \n",
    "MSE = mean_squared_error(y_test,ridge_pred)\n",
    "print(MSE)"
   ]
  },
  {
   "cell_type": "markdown",
   "metadata": {},
   "source": [
    "To convert this back to our measurement space, we often take the square root, to form the root mean square error:"
   ]
  },
  {
   "cell_type": "code",
   "execution_count": 14,
   "metadata": {},
   "outputs": [
    {
     "name": "stdout",
     "output_type": "stream",
     "text": [
      "Mean Squared Error 33.21064531238514\n"
     ]
    }
   ],
   "source": [
    "print('Mean Squared Error',np.sqrt(MSE))"
   ]
  },
  {
   "cell_type": "code",
   "execution_count": 15,
   "metadata": {},
   "outputs": [
    {
     "data": {
      "image/png": "[encoded data removed]",
      "text/plain": [
       "<Figure size 720x720 with 1 Axes>"
      ]
     },
     "metadata": {
      "needs_background": "light"
     },
     "output_type": "display_data"
    }
   ],
   "source": [
    "plt.figure(figsize=(10,10))\n",
    "plt.scatter(y_test, ridge_pred, c='green')\n",
    "plt.xlabel('True Values', fontsize=15)\n",
    "plt.ylabel('Predictions', fontsize=15)\n",
    "#plt.axis('equal')\n",
    "plt.show()"
   ]
  },
  {
   "cell_type": "code",
   "execution_count": 16,
   "metadata": {},
   "outputs": [],
   "source": [
    "residuals = y_test-ridge_pred"
   ]
  },
  {
   "cell_type": "code",
   "execution_count": 17,
   "metadata": {},
   "outputs": [
    {
     "name": "stderr",
     "output_type": "stream",
     "text": [
      "E:\\anaconda\\lib\\site-packages\\seaborn\\distributions.py:2551: FutureWarning: `distplot` is a deprecated function and will be removed in a future version. Please adapt your code to use either `displot` (a figure-level function with similar flexibility) or `histplot` (an axes-level function for histograms).\n",
      "  warnings.warn(msg, FutureWarning)\n"
     ]
    },
    {
     "data": {
      "image/png": "[encoded data removed]",
      "text/plain": [
       "<Figure size 432x288 with 1 Axes>"
      ]
     },
     "metadata": {
      "needs_background": "light"
     },
     "output_type": "display_data"
    }
   ],
   "source": [
    "sns.distplot(residuals, bins = 10) #histplot\n",
    "plt.title('Error Terms', fontsize=20)           \n",
    "plt.xlabel('Residuals', fontsize = 15)     \n",
    "plt.show()"
   ]
  },
  {
   "cell_type": "markdown",
   "metadata": {},
   "source": [
    "## Lasso Regression"
   ]
  },
  {
   "cell_type": "code",
   "execution_count": 18,
   "metadata": {},
   "outputs": [
    {
     "name": "stdout",
     "output_type": "stream",
     "text": [
      "\n",
      "Model Accuracy:-  18.566478238499595 %\n",
      "\n",
      "Test Data Accuracy:-  20.83905470092936 %\n"
     ]
    }
   ],
   "source": [
    "#define model\n",
    "lasso = Lasso(alpha=0.1, normalize=True)\n",
    "#fit the model\n",
    "lasso.fit(X_train, y_train)\n",
    "#make a prediction\n",
    "lasso_pred = lasso.predict(X_test)\n",
    "\n",
    "#check accuracy\n",
    "accuracy = lasso.score(X_train,y_train)\n",
    "print('\\nModel Accuracy:- ', accuracy*100,'%')\n",
    "\n",
    "accuracy = lasso.score(X_test,y_test)\n",
    "print('\\nTest Data Accuracy:- ', accuracy*100,'%')"
   ]
  },
  {
   "cell_type": "code",
   "execution_count": 19,
   "metadata": {},
   "outputs": [
    {
     "data": {
      "text/plain": [
       "28.49404288864112"
      ]
     },
     "execution_count": 19,
     "metadata": {},
     "output_type": "execute_result"
    }
   ],
   "source": [
    "mae(y_test,lasso_pred )"
   ]
  },
  {
   "cell_type": "markdown",
   "metadata": {},
   "source": [
    "#### Mean absolute percentage Accuracy (MAPE)"
   ]
  },
  {
   "cell_type": "code",
   "execution_count": 20,
   "metadata": {},
   "outputs": [
    {
     "name": "stdout",
     "output_type": "stream",
     "text": [
      "Mean absolute percentage Accuracy (MAPE): 68.96 %.\n",
      "Mean absolute percentage error (MAPE): 31.04 %.\n"
     ]
    }
   ],
   "source": [
    "# Calculate mean absolute percentage error (MAPE)\n",
    "errors = abs(lasso_pred - y_test)\n",
    "mape = 100 * (errors / y_test)\n",
    "# Calculate and display accuracy\n",
    "accuracy = 100 - np.mean(mape)\n",
    "print('Mean absolute percentage Accuracy (MAPE):', round(accuracy, 2), '%.')\n",
    "print('Mean absolute percentage error (MAPE):', round(np.mean(mape), 2), '%.')"
   ]
  },
  {
   "cell_type": "markdown",
   "metadata": {},
   "source": [
    "### Mean squared error"
   ]
  },
  {
   "cell_type": "code",
   "execution_count": 21,
   "metadata": {},
   "outputs": [
    {
     "name": "stdout",
     "output_type": "stream",
     "text": [
      "1156.4633044274044\n"
     ]
    }
   ],
   "source": [
    "from sklearn.metrics import mean_squared_error \n",
    "MSE = mean_squared_error(y_test,lasso_pred)\n",
    "\n",
    "print(MSE)"
   ]
  },
  {
   "cell_type": "code",
   "execution_count": 22,
   "metadata": {},
   "outputs": [
    {
     "name": "stdout",
     "output_type": "stream",
     "text": [
      "Mean Squared Error 34.00681261787709\n"
     ]
    }
   ],
   "source": [
    "print('Mean Squared Error',np.sqrt(MSE))"
   ]
  },
  {
   "cell_type": "code",
   "execution_count": 23,
   "metadata": {},
   "outputs": [],
   "source": [
    "residuals = y_test-lasso_pred"
   ]
  },
  {
   "cell_type": "code",
   "execution_count": 24,
   "metadata": {},
   "outputs": [
    {
     "name": "stderr",
     "output_type": "stream",
     "text": [
      "E:\\anaconda\\lib\\site-packages\\seaborn\\distributions.py:2551: FutureWarning: `distplot` is a deprecated function and will be removed in a future version. Please adapt your code to use either `displot` (a figure-level function with similar flexibility) or `histplot` (an axes-level function for histograms).\n",
      "  warnings.warn(msg, FutureWarning)\n"
     ]
    },
    {
     "data": {
      "image/png": "[encoded data removed]",
      "text/plain": [
       "<Figure size 432x288 with 1 Axes>"
      ]
     },
     "metadata": {
      "needs_background": "light"
     },
     "output_type": "display_data"
    }
   ],
   "source": [
    "sns.distplot(residuals, bins = 10) #histplot\n",
    "plt.title('Error Terms', fontsize=20)           \n",
    "plt.xlabel('Residuals', fontsize = 15)     \n",
    "plt.show()"
   ]
  },
  {
   "cell_type": "markdown",
   "metadata": {},
   "source": [
    "# OLS "
   ]
  },
  {
   "cell_type": "code",
   "execution_count": 25,
   "metadata": {},
   "outputs": [
    {
     "name": "stdout",
     "output_type": "stream",
     "text": [
      "                            OLS Regression Results                            \n",
      "==============================================================================\n",
      "Dep. Variable:             Est_Salary   R-squared:                       0.344\n",
      "Model:                            OLS   Adj. R-squared:                  0.339\n",
      "Method:                 Least Squares   F-statistic:                     65.06\n",
      "Date:                Fri, 12 Feb 2021   Prob (F-statistic):          2.12e-261\n",
      "Time:                        00:31:34   Log-Likelihood:                -15188.\n",
      "No. Observations:                3127   AIC:                         3.043e+04\n",
      "Df Residuals:                    3101   BIC:                         3.058e+04\n",
      "Df Model:                          25                                         \n",
      "Covariance Type:            nonrobust                                         \n",
      "============================================================================================================\n",
      "                                               coef    std err          t      P>|t|      [0.025      0.975]\n",
      "------------------------------------------------------------------------------------------------------------\n",
      "const                                      126.1701     30.159      4.184      0.000      67.037     185.304\n",
      "Location State_ CA                          55.1081      1.867     29.523      0.000      51.448      58.768\n",
      "Location State_ NY                          41.1631      2.263     18.193      0.000      36.727      45.599\n",
      "Location City_San Diego                    -44.6068      2.530    -17.631      0.000     -49.567     -39.646\n",
      "Founded                                     -0.0187      0.015     -1.211      0.226      -0.049       0.012\n",
      "Location City_Los Angeles                  -22.8036      2.875     -7.932      0.000     -28.441     -17.167\n",
      "Job Title_Data Scientist                     4.7705      1.715      2.781      0.005       1.407       8.134\n",
      "Job Title_Data Analyst                      -1.2193      1.906     -0.640      0.522      -4.957       2.518\n",
      "Job Title_Data Engineer                      0.0299      1.887      0.016      0.987      -3.669       3.729\n",
      "Location City_Austin                        10.4368      2.112      4.942      0.000       6.296      14.578\n",
      "Location City_Burbank                      -41.9870      7.405     -5.670      0.000     -56.507     -27.467\n",
      "Type of ownership_Nonprofit Organization    -7.8237      2.851     -2.744      0.006     -13.415      -2.233\n",
      "Sector_Information Technology                3.2102      1.544      2.079      0.038       0.183       6.237\n",
      "Location City_Dallas                       -10.8956      2.780     -3.920      0.000     -16.346      -5.446\n",
      "Location City_Houston                        9.6963      2.558      3.791      0.000       4.681      14.712\n",
      "Revenue_Unknown / Non-Applicable            -0.0567      1.356     -0.042      0.967      -2.716       2.603\n",
      "Type of ownership_Company - Public           2.8747      2.012      1.429      0.153      -1.071       6.820\n",
      "Rating_3                                     0.6768      1.847      0.366      0.714      -2.945       4.299\n",
      "Sector_Business Services                     0.0520      1.717      0.030      0.976      -3.315       3.419\n",
      "Sector_Unknown                               1.2826      1.909      0.672      0.502      -2.460       5.025\n",
      "Type of ownership_Company - Private          2.3740      1.790      1.326      0.185      -1.135       5.883\n",
      "Revenue_$100 to $500 million (USD)          -1.3756      2.139     -0.643      0.520      -5.570       2.819\n",
      "Rating_4                                     0.6801      2.005      0.339      0.734      -3.250       4.611\n",
      "Revenue_$10+ billion (USD)                   1.6109      2.102      0.766      0.444      -2.511       5.733\n",
      "Headquarters_Chicago, IL                    -6.2896      3.340     -1.883      0.060     -12.839       0.260\n",
      "Location State_ IL                          -6.8588      2.380     -2.882      0.004     -11.525      -2.193\n",
      "==============================================================================\n",
      "Omnibus:                       78.379   Durbin-Watson:                   2.020\n",
      "Prob(Omnibus):                  0.000   Jarque-Bera (JB):               84.275\n",
      "Skew:                           0.382   Prob(JB):                     5.01e-19\n",
      "Kurtosis:                       3.249   Cond. No.                     1.07e+05\n",
      "==============================================================================\n",
      "\n",
      "Warnings:\n",
      "[1] Standard Errors assume that the covariance matrix of the errors is correctly specified.\n",
      "[2] The condition number is large, 1.07e+05. This might indicate that there are\n",
      "strong multicollinearity or other numerical problems.\n",
      "\n",
      "Average error: 31.25.\n"
     ]
    }
   ],
   "source": [
    "#Run regression using statsmodels\n",
    "import statsmodels.api as sm\n",
    "import math\n",
    "from sklearn.metrics import mean_squared_error\n",
    "\n",
    "X_train = sm.add_constant(X_train) # required if constant expected\n",
    "est = sm.OLS(y_train,X_train).fit() # fit model\n",
    "predictions = est.predict() # get predicted values\n",
    "print(est.summary()) # prints full regression results\n",
    "print(\"\\nAverage error: {:.2f}.\".format(math.sqrt(est.mse_resid)))"
   ]
  },
  {
   "cell_type": "code",
   "execution_count": 26,
   "metadata": {},
   "outputs": [
    {
     "name": "stdout",
     "output_type": "stream",
     "text": [
      "                            OLS Regression Results                            \n",
      "==============================================================================\n",
      "Dep. Variable:             Est_Salary   R-squared:                       0.402\n",
      "Model:                            OLS   Adj. R-squared:                  0.382\n",
      "Method:                 Least Squares   F-statistic:                     20.32\n",
      "Date:                Fri, 12 Feb 2021   Prob (F-statistic):           4.73e-68\n",
      "Time:                        00:31:34   Log-Likelihood:                -3757.8\n",
      "No. Observations:                 782   AIC:                             7568.\n",
      "Df Residuals:                     756   BIC:                             7689.\n",
      "Df Model:                          25                                         \n",
      "Covariance Type:            nonrobust                                         \n",
      "============================================================================================================\n",
      "                                               coef    std err          t      P>|t|      [0.025      0.975]\n",
      "------------------------------------------------------------------------------------------------------------\n",
      "const                                       17.2774     63.185      0.273      0.785    -106.762     141.317\n",
      "Location State_ CA                          57.1059      3.527     16.191      0.000      50.182      64.030\n",
      "Location State_ NY                          37.1639      4.189      8.872      0.000      28.941      45.387\n",
      "Location City_San Diego                    -43.9298      5.197     -8.454      0.000     -54.131     -33.728\n",
      "Founded                                      0.0354      0.032      1.095      0.274      -0.028       0.099\n",
      "Location City_Los Angeles                  -13.3874      6.124     -2.186      0.029     -25.409      -1.366\n",
      "Job Title_Data Scientist                     5.9077      3.444      1.715      0.087      -0.853      12.669\n",
      "Job Title_Data Analyst                      -1.9210      3.740     -0.514      0.608      -9.264       5.421\n",
      "Job Title_Data Engineer                     -2.9900      3.766     -0.794      0.427     -10.383       4.402\n",
      "Location City_Austin                        15.1194      4.271      3.540      0.000       6.734      23.505\n",
      "Location City_Burbank                      -20.6397     14.297     -1.444      0.149     -48.705       7.426\n",
      "Type of ownership_Nonprofit Organization     3.6822      5.905      0.624      0.533      -7.909      15.274\n",
      "Sector_Information Technology                6.3037      3.017      2.089      0.037       0.380      12.227\n",
      "Location City_Dallas                        -7.2123      5.381     -1.340      0.181     -17.775       3.351\n",
      "Location City_Houston                       10.9691      4.827      2.273      0.023       1.494      20.444\n",
      "Revenue_Unknown / Non-Applicable             5.7939      2.711      2.137      0.033       0.471      11.116\n",
      "Type of ownership_Company - Public           1.2882      4.015      0.321      0.748      -6.595       9.171\n",
      "Rating_3                                    -0.5753      3.877     -0.148      0.882      -8.187       7.036\n",
      "Sector_Business Services                    -1.0363      3.480     -0.298      0.766      -7.867       5.794\n",
      "Sector_Unknown                              -5.6177      3.841     -1.462      0.144     -13.158       1.923\n",
      "Type of ownership_Company - Private          0.1772      3.545      0.050      0.960      -6.783       7.137\n",
      "Revenue_$100 to $500 million (USD)          -2.3765      3.972     -0.598      0.550     -10.174       5.421\n",
      "Rating_4                                     4.3569      4.038      1.079      0.281      -3.570      12.284\n",
      "Revenue_$10+ billion (USD)                   3.8270      4.142      0.924      0.356      -4.305      11.959\n",
      "Headquarters_Chicago, IL                    -6.5717      7.010     -0.937      0.349     -20.333       7.190\n",
      "Location State_ IL                          -5.6947      4.763     -1.196      0.232     -15.045       3.656\n",
      "==============================================================================\n",
      "Omnibus:                       21.256   Durbin-Watson:                   1.895\n",
      "Prob(Omnibus):                  0.000   Jarque-Bera (JB):               24.183\n",
      "Skew:                           0.341   Prob(JB):                     5.61e-06\n",
      "Kurtosis:                       3.526   Cond. No.                     1.16e+05\n",
      "==============================================================================\n",
      "\n",
      "Warnings:\n",
      "[1] Standard Errors assume that the covariance matrix of the errors is correctly specified.\n",
      "[2] The condition number is large, 1.16e+05. This might indicate that there are\n",
      "strong multicollinearity or other numerical problems.\n",
      "\n",
      "Average error: 30.06.\n"
     ]
    }
   ],
   "source": [
    "# Run regression using statsmodels\n",
    "import statsmodels.api as sm\n",
    "\n",
    "X_test = sm.add_constant(X_test) # required if constant expected\n",
    "est = sm.OLS(y_test,X_test).fit() # fit model\n",
    "predictions = est.predict() # get predicted values\n",
    "print(est.summary()) # prints full regression results\n",
    "print(\"\\nAverage error: {:.2f}.\".format(math.sqrt(est.mse_resid)))"
   ]
  },
  {
   "cell_type": "markdown",
   "metadata": {},
   "source": [
    "### Linear Regression:"
   ]
  },
  {
   "cell_type": "markdown",
   "metadata": {},
   "source": [
    "Split the data into a training and test (hold-out) set\n",
    "Train on the training set, and test for accuracy on the testing set"
   ]
  },
  {
   "cell_type": "code",
   "execution_count": 27,
   "metadata": {},
   "outputs": [
    {
     "name": "stdout",
     "output_type": "stream",
     "text": [
      "\n",
      "Model Accuracy:-  34.4034392444439 %\n",
      "\n",
      "Test Data Accuracy:-  36.74499719562149 %\n"
     ]
    }
   ],
   "source": [
    "# train using Linear model\n",
    "from sklearn.linear_model import LinearRegression\n",
    "model=LinearRegression()\n",
    "model.fit(X_train,y_train)\n",
    "\n",
    "#accuracy\n",
    "accuracy = model.score(X_train,y_train)\n",
    "print('\\nModel Accuracy:- ', accuracy*100,'%')\n",
    "\n",
    "accuracy = model.score(X_test,y_test)\n",
    "print('\\nTest Data Accuracy:- ', accuracy*100,'%')"
   ]
  },
  {
   "cell_type": "code",
   "execution_count": 28,
   "metadata": {},
   "outputs": [],
   "source": [
    "y_pred = model.predict(X_test)"
   ]
  },
  {
   "cell_type": "markdown",
   "metadata": {},
   "source": [
    "### MAE"
   ]
  },
  {
   "cell_type": "code",
   "execution_count": 29,
   "metadata": {},
   "outputs": [
    {
     "name": "stdout",
     "output_type": "stream",
     "text": [
      "Mean Absolute Error: 24.74\n"
     ]
    }
   ],
   "source": [
    "# Use the forest's predict method on the test data\n",
    "linear_pred = model.predict(X_test)#y_pred\n",
    "# Calculate the absolute errors\n",
    "errors = abs(linear_pred - y_test)\n",
    "# Print out the mean absolute error (mae)\n",
    "print('Mean Absolute Error:', round(np.mean(errors), 2))\n"
   ]
  },
  {
   "cell_type": "markdown",
   "metadata": {},
   "source": [
    "### MAPE"
   ]
  },
  {
   "cell_type": "code",
   "execution_count": 30,
   "metadata": {},
   "outputs": [
    {
     "name": "stdout",
     "output_type": "stream",
     "text": [
      "Mean absolute percentage Accuracy (MAPE): 73.3 %.\n",
      "Mean absolute percentage error (MAPE): 26.7 %.\n"
     ]
    }
   ],
   "source": [
    "# Calculate mean absolute percentage error (MAPE)\n",
    "mape = 100 * (errors / y_test)\n",
    "# Calculate and display accuracy\n",
    "accuracy = 100 - np.mean(mape)\n",
    "print('Mean absolute percentage Accuracy (MAPE):', round(accuracy, 2), '%.')\n",
    "print('Mean absolute percentage error (MAPE):', round(np.mean(mape), 2), '%.')"
   ]
  },
  {
   "cell_type": "markdown",
   "metadata": {},
   "source": [
    "### MSE"
   ]
  },
  {
   "cell_type": "code",
   "execution_count": 31,
   "metadata": {},
   "outputs": [
    {
     "name": "stdout",
     "output_type": "stream",
     "text": [
      "924.0931786292745\n"
     ]
    }
   ],
   "source": [
    "from sklearn.metrics import mean_squared_error \n",
    "MSE = mean_squared_error(y_test,linear_pred)\n",
    "\n",
    "print(MSE)"
   ]
  },
  {
   "cell_type": "code",
   "execution_count": 32,
   "metadata": {},
   "outputs": [
    {
     "name": "stdout",
     "output_type": "stream",
     "text": [
      "Mean Squared Error 30.39890094443012\n"
     ]
    }
   ],
   "source": [
    "print('Mean Squared Error',np.sqrt(MSE))"
   ]
  },
  {
   "cell_type": "code",
   "execution_count": 33,
   "metadata": {},
   "outputs": [],
   "source": [
    "residuals = y_test-linear_pred"
   ]
  },
  {
   "cell_type": "code",
   "execution_count": 34,
   "metadata": {},
   "outputs": [
    {
     "name": "stderr",
     "output_type": "stream",
     "text": [
      "E:\\anaconda\\lib\\site-packages\\seaborn\\distributions.py:2551: FutureWarning: `distplot` is a deprecated function and will be removed in a future version. Please adapt your code to use either `displot` (a figure-level function with similar flexibility) or `histplot` (an axes-level function for histograms).\n",
      "  warnings.warn(msg, FutureWarning)\n"
     ]
    },
    {
     "data": {
      "image/png": "[encoded data removed]",
      "text/plain": [
       "<Figure size 432x288 with 1 Axes>"
      ]
     },
     "metadata": {
      "needs_background": "light"
     },
     "output_type": "display_data"
    }
   ],
   "source": [
    "sns.distplot(residuals, bins = 10) #histplot\n",
    "plt.title('Error Terms', fontsize=20)           \n",
    "plt.xlabel('Residuals', fontsize = 15)     \n",
    "plt.show()"
   ]
  },
  {
   "cell_type": "code",
   "execution_count": 35,
   "metadata": {},
   "outputs": [
    {
     "data": {
      "text/html": [
       "<div>\n",
       "<style scoped>\n",
       "    .dataframe tbody tr th:only-of-type {\n",
       "        vertical-align: middle;\n",
       "    }\n",
       "\n",
       "    .dataframe tbody tr th {\n",
       "        vertical-align: top;\n",
       "    }\n",
       "\n",
       "    .dataframe thead th {\n",
       "        text-align: right;\n",
       "    }\n",
       "</style>\n",
       "<table border=\"1\" class=\"dataframe\">\n",
       "  <thead>\n",
       "    <tr style=\"text-align: right;\">\n",
       "      <th></th>\n",
       "      <th>const</th>\n",
       "      <th>Location State_ CA</th>\n",
       "      <th>Location State_ NY</th>\n",
       "      <th>Location City_San Diego</th>\n",
       "      <th>Founded</th>\n",
       "      <th>Location City_Los Angeles</th>\n",
       "      <th>Job Title_Data Scientist</th>\n",
       "      <th>Job Title_Data Analyst</th>\n",
       "      <th>Job Title_Data Engineer</th>\n",
       "      <th>Location City_Austin</th>\n",
       "      <th>...</th>\n",
       "      <th>Type of ownership_Company - Public</th>\n",
       "      <th>Rating_3</th>\n",
       "      <th>Sector_Business Services</th>\n",
       "      <th>Sector_Unknown</th>\n",
       "      <th>Type of ownership_Company - Private</th>\n",
       "      <th>Revenue_$100 to $500 million (USD)</th>\n",
       "      <th>Rating_4</th>\n",
       "      <th>Revenue_$10+ billion (USD)</th>\n",
       "      <th>Headquarters_Chicago, IL</th>\n",
       "      <th>Location State_ IL</th>\n",
       "    </tr>\n",
       "  </thead>\n",
       "  <tbody>\n",
       "    <tr>\n",
       "      <th>1334</th>\n",
       "      <td>1.0</td>\n",
       "      <td>0</td>\n",
       "      <td>0</td>\n",
       "      <td>0</td>\n",
       "      <td>1994</td>\n",
       "      <td>0</td>\n",
       "      <td>1</td>\n",
       "      <td>0</td>\n",
       "      <td>0</td>\n",
       "      <td>0</td>\n",
       "      <td>...</td>\n",
       "      <td>1</td>\n",
       "      <td>1</td>\n",
       "      <td>0</td>\n",
       "      <td>0</td>\n",
       "      <td>0</td>\n",
       "      <td>0</td>\n",
       "      <td>0</td>\n",
       "      <td>1</td>\n",
       "      <td>0</td>\n",
       "      <td>0</td>\n",
       "    </tr>\n",
       "    <tr>\n",
       "      <th>3735</th>\n",
       "      <td>1.0</td>\n",
       "      <td>0</td>\n",
       "      <td>0</td>\n",
       "      <td>0</td>\n",
       "      <td>2012</td>\n",
       "      <td>0</td>\n",
       "      <td>1</td>\n",
       "      <td>0</td>\n",
       "      <td>0</td>\n",
       "      <td>0</td>\n",
       "      <td>...</td>\n",
       "      <td>0</td>\n",
       "      <td>0</td>\n",
       "      <td>0</td>\n",
       "      <td>0</td>\n",
       "      <td>1</td>\n",
       "      <td>0</td>\n",
       "      <td>1</td>\n",
       "      <td>0</td>\n",
       "      <td>0</td>\n",
       "      <td>0</td>\n",
       "    </tr>\n",
       "    <tr>\n",
       "      <th>116</th>\n",
       "      <td>1.0</td>\n",
       "      <td>0</td>\n",
       "      <td>1</td>\n",
       "      <td>0</td>\n",
       "      <td>2009</td>\n",
       "      <td>0</td>\n",
       "      <td>1</td>\n",
       "      <td>0</td>\n",
       "      <td>0</td>\n",
       "      <td>0</td>\n",
       "      <td>...</td>\n",
       "      <td>0</td>\n",
       "      <td>0</td>\n",
       "      <td>0</td>\n",
       "      <td>0</td>\n",
       "      <td>1</td>\n",
       "      <td>0</td>\n",
       "      <td>0</td>\n",
       "      <td>0</td>\n",
       "      <td>0</td>\n",
       "      <td>0</td>\n",
       "    </tr>\n",
       "  </tbody>\n",
       "</table>\n",
       "<p>3 rows × 26 columns</p>\n",
       "</div>"
      ],
      "text/plain": [
       "      const  Location State_ CA  Location State_ NY  Location City_San Diego  \\\n",
       "1334    1.0                   0                   0                        0   \n",
       "3735    1.0                   0                   0                        0   \n",
       "116     1.0                   0                   1                        0   \n",
       "\n",
       "      Founded  Location City_Los Angeles  Job Title_Data Scientist  \\\n",
       "1334     1994                          0                         1   \n",
       "3735     2012                          0                         1   \n",
       "116      2009                          0                         1   \n",
       "\n",
       "      Job Title_Data Analyst  Job Title_Data Engineer  Location City_Austin  \\\n",
       "1334                       0                        0                     0   \n",
       "3735                       0                        0                     0   \n",
       "116                        0                        0                     0   \n",
       "\n",
       "      ...  Type of ownership_Company - Public  Rating_3  \\\n",
       "1334  ...                                   1         1   \n",
       "3735  ...                                   0         0   \n",
       "116   ...                                   0         0   \n",
       "\n",
       "      Sector_Business Services  Sector_Unknown  \\\n",
       "1334                         0               0   \n",
       "3735                         0               0   \n",
       "116                          0               0   \n",
       "\n",
       "      Type of ownership_Company - Private  Revenue_$100 to $500 million (USD)  \\\n",
       "1334                                    0                                   0   \n",
       "3735                                    1                                   0   \n",
       "116                                     1                                   0   \n",
       "\n",
       "      Rating_4  Revenue_$10+ billion (USD)  Headquarters_Chicago, IL  \\\n",
       "1334         0                           1                         0   \n",
       "3735         1                           0                         0   \n",
       "116          0                           0                         0   \n",
       "\n",
       "      Location State_ IL  \n",
       "1334                   0  \n",
       "3735                   0  \n",
       "116                    0  \n",
       "\n",
       "[3 rows x 26 columns]"
      ]
     },
     "execution_count": 35,
     "metadata": {},
     "output_type": "execute_result"
    }
   ],
   "source": [
    "# Collect 3 Random Samples for prediction; from unseen data\n",
    "Sample_X_test = X_test.sample(n=3, random_state=2)\n",
    "#prediction for 3 samples\n",
    "pred = model.predict(Sample_X_test)\n",
    "Sample_X_test\n",
    "#pred"
   ]
  },
  {
   "cell_type": "code",
   "execution_count": 36,
   "metadata": {},
   "outputs": [
    {
     "name": "stdout",
     "output_type": "stream",
     "text": [
      "Featured 3 sample data used for prediction\n"
     ]
    },
    {
     "data": {
      "text/html": [
       "<div>\n",
       "<style scoped>\n",
       "    .dataframe tbody tr th:only-of-type {\n",
       "        vertical-align: middle;\n",
       "    }\n",
       "\n",
       "    .dataframe tbody tr th {\n",
       "        vertical-align: top;\n",
       "    }\n",
       "\n",
       "    .dataframe thead th {\n",
       "        text-align: right;\n",
       "    }\n",
       "</style>\n",
       "<table border=\"1\" class=\"dataframe\">\n",
       "  <thead>\n",
       "    <tr style=\"text-align: right;\">\n",
       "      <th></th>\n",
       "      <th>Location State_ CA</th>\n",
       "      <th>Location State_ NY</th>\n",
       "      <th>Location City_San Diego</th>\n",
       "      <th>Founded</th>\n",
       "      <th>Location City_Los Angeles</th>\n",
       "      <th>Job Title_Data Scientist</th>\n",
       "      <th>Job Title_Data Analyst</th>\n",
       "      <th>Job Title_Data Engineer</th>\n",
       "      <th>Location City_Austin</th>\n",
       "      <th>Location City_Burbank</th>\n",
       "      <th>...</th>\n",
       "      <th>Rating_3</th>\n",
       "      <th>Sector_Business Services</th>\n",
       "      <th>Sector_Unknown</th>\n",
       "      <th>Type of ownership_Company - Private</th>\n",
       "      <th>Revenue_$100 to $500 million (USD)</th>\n",
       "      <th>Rating_4</th>\n",
       "      <th>Revenue_$10+ billion (USD)</th>\n",
       "      <th>Headquarters_Chicago, IL</th>\n",
       "      <th>Location State_ IL</th>\n",
       "      <th>Est_Salary</th>\n",
       "    </tr>\n",
       "  </thead>\n",
       "  <tbody>\n",
       "    <tr>\n",
       "      <th>First Sample</th>\n",
       "      <td>0.0</td>\n",
       "      <td>0.0</td>\n",
       "      <td>0.0</td>\n",
       "      <td>1994.0</td>\n",
       "      <td>0.0</td>\n",
       "      <td>1.0</td>\n",
       "      <td>0.0</td>\n",
       "      <td>0.0</td>\n",
       "      <td>0.0</td>\n",
       "      <td>0.0</td>\n",
       "      <td>...</td>\n",
       "      <td>1.0</td>\n",
       "      <td>0.0</td>\n",
       "      <td>0.0</td>\n",
       "      <td>0.0</td>\n",
       "      <td>0.0</td>\n",
       "      <td>0.0</td>\n",
       "      <td>1.0</td>\n",
       "      <td>0.0</td>\n",
       "      <td>0.0</td>\n",
       "      <td>128.0</td>\n",
       "    </tr>\n",
       "    <tr>\n",
       "      <th>Second Sample</th>\n",
       "      <td>0.0</td>\n",
       "      <td>0.0</td>\n",
       "      <td>0.0</td>\n",
       "      <td>2012.0</td>\n",
       "      <td>0.0</td>\n",
       "      <td>1.0</td>\n",
       "      <td>0.0</td>\n",
       "      <td>0.0</td>\n",
       "      <td>0.0</td>\n",
       "      <td>0.0</td>\n",
       "      <td>...</td>\n",
       "      <td>0.0</td>\n",
       "      <td>0.0</td>\n",
       "      <td>0.0</td>\n",
       "      <td>1.0</td>\n",
       "      <td>0.0</td>\n",
       "      <td>1.0</td>\n",
       "      <td>0.0</td>\n",
       "      <td>0.0</td>\n",
       "      <td>0.0</td>\n",
       "      <td>131.5</td>\n",
       "    </tr>\n",
       "    <tr>\n",
       "      <th>Third Sample</th>\n",
       "      <td>0.0</td>\n",
       "      <td>1.0</td>\n",
       "      <td>0.0</td>\n",
       "      <td>2009.0</td>\n",
       "      <td>0.0</td>\n",
       "      <td>1.0</td>\n",
       "      <td>0.0</td>\n",
       "      <td>0.0</td>\n",
       "      <td>0.0</td>\n",
       "      <td>0.0</td>\n",
       "      <td>...</td>\n",
       "      <td>0.0</td>\n",
       "      <td>0.0</td>\n",
       "      <td>0.0</td>\n",
       "      <td>1.0</td>\n",
       "      <td>0.0</td>\n",
       "      <td>0.0</td>\n",
       "      <td>0.0</td>\n",
       "      <td>0.0</td>\n",
       "      <td>0.0</td>\n",
       "      <td>111.5</td>\n",
       "    </tr>\n",
       "  </tbody>\n",
       "</table>\n",
       "<p>3 rows × 26 columns</p>\n",
       "</div>"
      ],
      "text/plain": [
       "               Location State_ CA  Location State_ NY  \\\n",
       "First Sample                  0.0                 0.0   \n",
       "Second Sample                 0.0                 0.0   \n",
       "Third Sample                  0.0                 1.0   \n",
       "\n",
       "               Location City_San Diego  Founded  Location City_Los Angeles  \\\n",
       "First Sample                       0.0   1994.0                        0.0   \n",
       "Second Sample                      0.0   2012.0                        0.0   \n",
       "Third Sample                       0.0   2009.0                        0.0   \n",
       "\n",
       "               Job Title_Data Scientist  Job Title_Data Analyst  \\\n",
       "First Sample                        1.0                     0.0   \n",
       "Second Sample                       1.0                     0.0   \n",
       "Third Sample                        1.0                     0.0   \n",
       "\n",
       "               Job Title_Data Engineer  Location City_Austin  \\\n",
       "First Sample                       0.0                   0.0   \n",
       "Second Sample                      0.0                   0.0   \n",
       "Third Sample                       0.0                   0.0   \n",
       "\n",
       "               Location City_Burbank  ...  Rating_3  Sector_Business Services  \\\n",
       "First Sample                     0.0  ...       1.0                       0.0   \n",
       "Second Sample                    0.0  ...       0.0                       0.0   \n",
       "Third Sample                     0.0  ...       0.0                       0.0   \n",
       "\n",
       "               Sector_Unknown  Type of ownership_Company - Private  \\\n",
       "First Sample              0.0                                  0.0   \n",
       "Second Sample             0.0                                  1.0   \n",
       "Third Sample              0.0                                  1.0   \n",
       "\n",
       "               Revenue_$100 to $500 million (USD)  Rating_4  \\\n",
       "First Sample                                  0.0       0.0   \n",
       "Second Sample                                 0.0       1.0   \n",
       "Third Sample                                  0.0       0.0   \n",
       "\n",
       "               Revenue_$10+ billion (USD)  Headquarters_Chicago, IL  \\\n",
       "First Sample                          1.0                       0.0   \n",
       "Second Sample                         0.0                       0.0   \n",
       "Third Sample                          0.0                       0.0   \n",
       "\n",
       "               Location State_ IL  Est_Salary  \n",
       "First Sample                  0.0       128.0  \n",
       "Second Sample                 0.0       131.5  \n",
       "Third Sample                  0.0       111.5  \n",
       "\n",
       "[3 rows x 26 columns]"
      ]
     },
     "execution_count": 36,
     "metadata": {},
     "output_type": "execute_result"
    }
   ],
   "source": [
    "print(\"Featured 3 sample data used for prediction\")\n",
    "pd.DataFrame({'First Sample' : df.iloc[1334],\n",
    "              'Second Sample' : df.iloc[3735],\n",
    "              'Third Sample' : df.iloc[116]}).T\n"
   ]
  },
  {
   "cell_type": "code",
   "execution_count": 37,
   "metadata": {
    "scrolled": true
   },
   "outputs": [
    {
     "data": {
      "text/plain": [
       "1334    128.0\n",
       "3735    131.5\n",
       "116     111.5\n",
       "Name: Est_Salary, dtype: float64"
      ]
     },
     "execution_count": 37,
     "metadata": {},
     "output_type": "execute_result"
    }
   ],
   "source": [
    "Sample_Y_test = y_test.sample(n=3, random_state=2)\n",
    "Sample_Y_test"
   ]
  },
  {
   "cell_type": "markdown",
   "metadata": {},
   "source": [
    "# Confusion Matrix"
   ]
  },
  {
   "cell_type": "code",
   "execution_count": 38,
   "metadata": {},
   "outputs": [
    {
     "name": "stdout",
     "output_type": "stream",
     "text": [
      "\n",
      "1. Safe Model Confusion Matrix for Training Data :- \n",
      "\n"
     ]
    },
    {
     "data": {
      "text/html": [
       "<div>\n",
       "<style scoped>\n",
       "    .dataframe tbody tr th:only-of-type {\n",
       "        vertical-align: middle;\n",
       "    }\n",
       "\n",
       "    .dataframe tbody tr th {\n",
       "        vertical-align: top;\n",
       "    }\n",
       "\n",
       "    .dataframe thead th {\n",
       "        text-align: right;\n",
       "    }\n",
       "</style>\n",
       "<table border=\"1\" class=\"dataframe\">\n",
       "  <thead>\n",
       "    <tr style=\"text-align: right;\">\n",
       "      <th>col_0</th>\n",
       "      <th>96.408077</th>\n",
       "      <th>102.119175</th>\n",
       "      <th>140.157273</th>\n",
       "    </tr>\n",
       "    <tr>\n",
       "      <th>Est_Salary</th>\n",
       "      <th></th>\n",
       "      <th></th>\n",
       "      <th></th>\n",
       "    </tr>\n",
       "  </thead>\n",
       "  <tbody>\n",
       "    <tr>\n",
       "      <th>111.5</th>\n",
       "      <td>0</td>\n",
       "      <td>0</td>\n",
       "      <td>1</td>\n",
       "    </tr>\n",
       "    <tr>\n",
       "      <th>128.0</th>\n",
       "      <td>0</td>\n",
       "      <td>1</td>\n",
       "      <td>0</td>\n",
       "    </tr>\n",
       "    <tr>\n",
       "      <th>131.5</th>\n",
       "      <td>1</td>\n",
       "      <td>0</td>\n",
       "      <td>0</td>\n",
       "    </tr>\n",
       "  </tbody>\n",
       "</table>\n",
       "</div>"
      ],
      "text/plain": [
       "col_0       96.408077   102.119175  140.157273\n",
       "Est_Salary                                    \n",
       "111.5                0           0           1\n",
       "128.0                0           1           0\n",
       "131.5                1           0           0"
      ]
     },
     "execution_count": 38,
     "metadata": {},
     "output_type": "execute_result"
    }
   ],
   "source": [
    "from sklearn.metrics import confusion_matrix\n",
    "print(\"\\n1. Safe Model Confusion Matrix for Training Data :- \\n\")\n",
    "pd.crosstab(Sample_Y_test,pred)"
   ]
  },
  {
   "cell_type": "markdown",
   "metadata": {},
   "source": [
    "After review the confusion matrix if avg salary is 111 but model predict it 96, if avg salary is 131 but model predict it 140"
   ]
  },
  {
   "cell_type": "markdown",
   "metadata": {},
   "source": [
    "Convert random sample to user readable"
   ]
  },
  {
   "cell_type": "code",
   "execution_count": 39,
   "metadata": {},
   "outputs": [
    {
     "name": "stdout",
     "output_type": "stream",
     "text": [
      "Creating three random sample from dataset\n",
      "\n",
      "Below test data is unseen by Model during it's training\n"
     ]
    },
    {
     "data": {
      "text/html": [
       "<div>\n",
       "<style scoped>\n",
       "    .dataframe tbody tr th:only-of-type {\n",
       "        vertical-align: middle;\n",
       "    }\n",
       "\n",
       "    .dataframe tbody tr th {\n",
       "        vertical-align: top;\n",
       "    }\n",
       "\n",
       "    .dataframe thead th {\n",
       "        text-align: right;\n",
       "    }\n",
       "</style>\n",
       "<table border=\"1\" class=\"dataframe\">\n",
       "  <thead>\n",
       "    <tr style=\"text-align: right;\">\n",
       "      <th></th>\n",
       "      <th>const</th>\n",
       "      <th>Location State_ CA</th>\n",
       "      <th>Location State_ NY</th>\n",
       "      <th>Location City_San Diego</th>\n",
       "      <th>Founded</th>\n",
       "      <th>Location City_Los Angeles</th>\n",
       "      <th>Job Title_Data Scientist</th>\n",
       "      <th>Job Title_Data Analyst</th>\n",
       "      <th>Job Title_Data Engineer</th>\n",
       "      <th>Location City_Austin</th>\n",
       "      <th>...</th>\n",
       "      <th>Type of ownership_Company - Public</th>\n",
       "      <th>Rating_3</th>\n",
       "      <th>Sector_Business Services</th>\n",
       "      <th>Sector_Unknown</th>\n",
       "      <th>Type of ownership_Company - Private</th>\n",
       "      <th>Revenue_$100 to $500 million (USD)</th>\n",
       "      <th>Rating_4</th>\n",
       "      <th>Revenue_$10+ billion (USD)</th>\n",
       "      <th>Headquarters_Chicago, IL</th>\n",
       "      <th>Location State_ IL</th>\n",
       "    </tr>\n",
       "  </thead>\n",
       "  <tbody>\n",
       "    <tr>\n",
       "      <th>1334</th>\n",
       "      <td>1.0</td>\n",
       "      <td>0</td>\n",
       "      <td>0</td>\n",
       "      <td>0</td>\n",
       "      <td>1994</td>\n",
       "      <td>0</td>\n",
       "      <td>1</td>\n",
       "      <td>0</td>\n",
       "      <td>0</td>\n",
       "      <td>0</td>\n",
       "      <td>...</td>\n",
       "      <td>1</td>\n",
       "      <td>1</td>\n",
       "      <td>0</td>\n",
       "      <td>0</td>\n",
       "      <td>0</td>\n",
       "      <td>0</td>\n",
       "      <td>0</td>\n",
       "      <td>1</td>\n",
       "      <td>0</td>\n",
       "      <td>0</td>\n",
       "    </tr>\n",
       "    <tr>\n",
       "      <th>3735</th>\n",
       "      <td>1.0</td>\n",
       "      <td>0</td>\n",
       "      <td>0</td>\n",
       "      <td>0</td>\n",
       "      <td>2012</td>\n",
       "      <td>0</td>\n",
       "      <td>1</td>\n",
       "      <td>0</td>\n",
       "      <td>0</td>\n",
       "      <td>0</td>\n",
       "      <td>...</td>\n",
       "      <td>0</td>\n",
       "      <td>0</td>\n",
       "      <td>0</td>\n",
       "      <td>0</td>\n",
       "      <td>1</td>\n",
       "      <td>0</td>\n",
       "      <td>1</td>\n",
       "      <td>0</td>\n",
       "      <td>0</td>\n",
       "      <td>0</td>\n",
       "    </tr>\n",
       "    <tr>\n",
       "      <th>116</th>\n",
       "      <td>1.0</td>\n",
       "      <td>0</td>\n",
       "      <td>1</td>\n",
       "      <td>0</td>\n",
       "      <td>2009</td>\n",
       "      <td>0</td>\n",
       "      <td>1</td>\n",
       "      <td>0</td>\n",
       "      <td>0</td>\n",
       "      <td>0</td>\n",
       "      <td>...</td>\n",
       "      <td>0</td>\n",
       "      <td>0</td>\n",
       "      <td>0</td>\n",
       "      <td>0</td>\n",
       "      <td>1</td>\n",
       "      <td>0</td>\n",
       "      <td>0</td>\n",
       "      <td>0</td>\n",
       "      <td>0</td>\n",
       "      <td>0</td>\n",
       "    </tr>\n",
       "  </tbody>\n",
       "</table>\n",
       "<p>3 rows × 26 columns</p>\n",
       "</div>"
      ],
      "text/plain": [
       "      const  Location State_ CA  Location State_ NY  Location City_San Diego  \\\n",
       "1334    1.0                   0                   0                        0   \n",
       "3735    1.0                   0                   0                        0   \n",
       "116     1.0                   0                   1                        0   \n",
       "\n",
       "      Founded  Location City_Los Angeles  Job Title_Data Scientist  \\\n",
       "1334     1994                          0                         1   \n",
       "3735     2012                          0                         1   \n",
       "116      2009                          0                         1   \n",
       "\n",
       "      Job Title_Data Analyst  Job Title_Data Engineer  Location City_Austin  \\\n",
       "1334                       0                        0                     0   \n",
       "3735                       0                        0                     0   \n",
       "116                        0                        0                     0   \n",
       "\n",
       "      ...  Type of ownership_Company - Public  Rating_3  \\\n",
       "1334  ...                                   1         1   \n",
       "3735  ...                                   0         0   \n",
       "116   ...                                   0         0   \n",
       "\n",
       "      Sector_Business Services  Sector_Unknown  \\\n",
       "1334                         0               0   \n",
       "3735                         0               0   \n",
       "116                          0               0   \n",
       "\n",
       "      Type of ownership_Company - Private  Revenue_$100 to $500 million (USD)  \\\n",
       "1334                                    0                                   0   \n",
       "3735                                    1                                   0   \n",
       "116                                     1                                   0   \n",
       "\n",
       "      Rating_4  Revenue_$10+ billion (USD)  Headquarters_Chicago, IL  \\\n",
       "1334         0                           1                         0   \n",
       "3735         1                           0                         0   \n",
       "116          0                           0                         0   \n",
       "\n",
       "      Location State_ IL  \n",
       "1334                   0  \n",
       "3735                   0  \n",
       "116                    0  \n",
       "\n",
       "[3 rows x 26 columns]"
      ]
     },
     "execution_count": 39,
     "metadata": {},
     "output_type": "execute_result"
    }
   ],
   "source": [
    "# Collect 3 Random Samples for prediction; from unseen data\n",
    "pred1 = X_test.sample(n=3, random_state=2)\n",
    "print(\"Creating three random sample from dataset\")\n",
    "print(\"\\nBelow test data is unseen by Model during it's training\")\n",
    "pred1"
   ]
  },
  {
   "cell_type": "code",
   "execution_count": null,
   "metadata": {},
   "outputs": [],
   "source": []
  }
 ],
 "metadata": {
  "kernelspec": {
   "display_name": "Python 3",
   "language": "python",
   "name": "python3"
  },
  "language_info": {
   "codemirror_mode": {
    "name": "ipython",
    "version": 3
   },
   "file_extension": ".py",
   "mimetype": "text/x-python",
   "name": "python",
   "nbconvert_exporter": "python",
   "pygments_lexer": "ipython3",
   "version": "3.7.9"
  }
 },
 "nbformat": 4,
 "nbformat_minor": 4
}
