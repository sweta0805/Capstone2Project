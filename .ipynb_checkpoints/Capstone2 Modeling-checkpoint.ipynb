{
 "cells": [
  {
   "cell_type": "markdown",
   "metadata": {},
   "source": [
    "# Imports"
   ]
  },
  {
   "cell_type": "code",
   "execution_count": 1,
   "metadata": {},
   "outputs": [],
   "source": [
    "import pandas as pd\n",
    "import numpy as np\n",
    "import matplotlib.pyplot as plt\n",
    "import os\n",
    "from sklearn.model_selection import train_test_split, cross_validate, GridSearchCV\n",
    "import graphviz"
   ]
  },
  {
   "cell_type": "markdown",
   "metadata": {},
   "source": [
    "# Data Load"
   ]
  },
  {
   "cell_type": "code",
   "execution_count": 2,
   "metadata": {},
   "outputs": [
    {
     "data": {
      "text/plain": [
       "Data Scientist    1653\n",
       "Data Engineer      840\n",
       "Data Analyst       828\n",
       "Name: Job Title, dtype: int64"
      ]
     },
     "execution_count": 2,
     "metadata": {},
     "output_type": "execute_result"
    }
   ],
   "source": [
    "merged_df = pd.read_csv('raw_data/datascientist_data_step4_features.csv')\n",
    "merged_df.head()\n",
    "merged_df['Job Title'].value_counts()"
   ]
  },
  {
   "cell_type": "markdown",
   "metadata": {},
   "source": [
    "# Train-Test Split"
   ]
  },
  {
   "cell_type": "markdown",
   "metadata": {},
   "source": [
    "Training and Test Datasets\n",
    "When fitting models, we would like to ensure two things:\n",
    "\n",
    "We have found the best model (in terms of model parameters).\n",
    "The model is highly likely to generalize i.e. perform well on unseen data."
   ]
  },
  {
   "cell_type": "markdown",
   "metadata": {},
   "source": [
    "Purpose of splitting data into Training/testing sets\n",
    "We built our model with the requirement that the model fit the data well.\n",
    "As a side-effect, the model will fit THIS dataset well. What about new data?\n",
    "We wanted the model for predictions, right?\n",
    "One simple solution, leave out some data (for testing) and train the model on the rest"
   ]
  },
  {
   "cell_type": "code",
   "execution_count": 3,
   "metadata": {},
   "outputs": [],
   "source": [
    "y = merged_df['Average Salary']\n",
    "X = merged_df.drop(['Average Salary'],axis=1, inplace=False)"
   ]
  },
  {
   "cell_type": "code",
   "execution_count": 4,
   "metadata": {
    "scrolled": true
   },
   "outputs": [
    {
     "data": {
      "text/html": [
       "<div>\n",
       "<style scoped>\n",
       "    .dataframe tbody tr th:only-of-type {\n",
       "        vertical-align: middle;\n",
       "    }\n",
       "\n",
       "    .dataframe tbody tr th {\n",
       "        vertical-align: top;\n",
       "    }\n",
       "\n",
       "    .dataframe thead th {\n",
       "        text-align: right;\n",
       "    }\n",
       "</style>\n",
       "<table border=\"1\" class=\"dataframe\">\n",
       "  <thead>\n",
       "    <tr style=\"text-align: right;\">\n",
       "      <th></th>\n",
       "      <th>Job Title_Data Engineer</th>\n",
       "      <th>Job Title_Data Scientist</th>\n",
       "      <th>Location State_ CA</th>\n",
       "      <th>Location State_ DE</th>\n",
       "      <th>Location State_ FL</th>\n",
       "      <th>Location State_ IL</th>\n",
       "      <th>Location State_ NJ</th>\n",
       "      <th>Location State_ NY</th>\n",
       "      <th>Location State_ OH</th>\n",
       "      <th>Location State_ PA</th>\n",
       "      <th>...</th>\n",
       "      <th>Sector_Media</th>\n",
       "      <th>Sector_Mining &amp; Metals</th>\n",
       "      <th>Sector_Non-Profit</th>\n",
       "      <th>Sector_Oil, Gas, Energy &amp; Utilities</th>\n",
       "      <th>Sector_Real Estate</th>\n",
       "      <th>Sector_Restaurants, Bars &amp; Food Services</th>\n",
       "      <th>Sector_Retail</th>\n",
       "      <th>Sector_Telecommunications</th>\n",
       "      <th>Sector_Transportation &amp; Logistics</th>\n",
       "      <th>Sector_Travel &amp; Tourism</th>\n",
       "    </tr>\n",
       "  </thead>\n",
       "  <tbody>\n",
       "    <tr>\n",
       "      <th>100</th>\n",
       "      <td>0</td>\n",
       "      <td>1</td>\n",
       "      <td>0</td>\n",
       "      <td>0</td>\n",
       "      <td>0</td>\n",
       "      <td>0</td>\n",
       "      <td>0</td>\n",
       "      <td>1</td>\n",
       "      <td>0</td>\n",
       "      <td>0</td>\n",
       "      <td>...</td>\n",
       "      <td>0</td>\n",
       "      <td>0</td>\n",
       "      <td>0</td>\n",
       "      <td>0</td>\n",
       "      <td>0</td>\n",
       "      <td>0</td>\n",
       "      <td>0</td>\n",
       "      <td>0</td>\n",
       "      <td>0</td>\n",
       "      <td>0</td>\n",
       "    </tr>\n",
       "    <tr>\n",
       "      <th>451</th>\n",
       "      <td>0</td>\n",
       "      <td>1</td>\n",
       "      <td>1</td>\n",
       "      <td>0</td>\n",
       "      <td>0</td>\n",
       "      <td>0</td>\n",
       "      <td>0</td>\n",
       "      <td>0</td>\n",
       "      <td>0</td>\n",
       "      <td>0</td>\n",
       "      <td>...</td>\n",
       "      <td>0</td>\n",
       "      <td>0</td>\n",
       "      <td>0</td>\n",
       "      <td>0</td>\n",
       "      <td>0</td>\n",
       "      <td>0</td>\n",
       "      <td>0</td>\n",
       "      <td>0</td>\n",
       "      <td>0</td>\n",
       "      <td>0</td>\n",
       "    </tr>\n",
       "    <tr>\n",
       "      <th>448</th>\n",
       "      <td>0</td>\n",
       "      <td>1</td>\n",
       "      <td>1</td>\n",
       "      <td>0</td>\n",
       "      <td>0</td>\n",
       "      <td>0</td>\n",
       "      <td>0</td>\n",
       "      <td>0</td>\n",
       "      <td>0</td>\n",
       "      <td>0</td>\n",
       "      <td>...</td>\n",
       "      <td>1</td>\n",
       "      <td>0</td>\n",
       "      <td>0</td>\n",
       "      <td>0</td>\n",
       "      <td>0</td>\n",
       "      <td>0</td>\n",
       "      <td>0</td>\n",
       "      <td>0</td>\n",
       "      <td>0</td>\n",
       "      <td>0</td>\n",
       "    </tr>\n",
       "    <tr>\n",
       "      <th>3070</th>\n",
       "      <td>0</td>\n",
       "      <td>1</td>\n",
       "      <td>0</td>\n",
       "      <td>0</td>\n",
       "      <td>1</td>\n",
       "      <td>0</td>\n",
       "      <td>0</td>\n",
       "      <td>0</td>\n",
       "      <td>0</td>\n",
       "      <td>0</td>\n",
       "      <td>...</td>\n",
       "      <td>0</td>\n",
       "      <td>0</td>\n",
       "      <td>0</td>\n",
       "      <td>0</td>\n",
       "      <td>0</td>\n",
       "      <td>0</td>\n",
       "      <td>0</td>\n",
       "      <td>0</td>\n",
       "      <td>0</td>\n",
       "      <td>0</td>\n",
       "    </tr>\n",
       "    <tr>\n",
       "      <th>3275</th>\n",
       "      <td>0</td>\n",
       "      <td>1</td>\n",
       "      <td>0</td>\n",
       "      <td>0</td>\n",
       "      <td>0</td>\n",
       "      <td>0</td>\n",
       "      <td>0</td>\n",
       "      <td>0</td>\n",
       "      <td>1</td>\n",
       "      <td>0</td>\n",
       "      <td>...</td>\n",
       "      <td>0</td>\n",
       "      <td>0</td>\n",
       "      <td>0</td>\n",
       "      <td>0</td>\n",
       "      <td>0</td>\n",
       "      <td>0</td>\n",
       "      <td>0</td>\n",
       "      <td>0</td>\n",
       "      <td>0</td>\n",
       "      <td>0</td>\n",
       "    </tr>\n",
       "  </tbody>\n",
       "</table>\n",
       "<p>5 rows × 37 columns</p>\n",
       "</div>"
      ],
      "text/plain": [
       "      Job Title_Data Engineer  Job Title_Data Scientist  Location State_ CA  \\\n",
       "100                         0                         1                   0   \n",
       "451                         0                         1                   1   \n",
       "448                         0                         1                   1   \n",
       "3070                        0                         1                   0   \n",
       "3275                        0                         1                   0   \n",
       "\n",
       "      Location State_ DE  Location State_ FL  Location State_ IL  \\\n",
       "100                    0                   0                   0   \n",
       "451                    0                   0                   0   \n",
       "448                    0                   0                   0   \n",
       "3070                   0                   1                   0   \n",
       "3275                   0                   0                   0   \n",
       "\n",
       "      Location State_ NJ  Location State_ NY  Location State_ OH  \\\n",
       "100                    0                   1                   0   \n",
       "451                    0                   0                   0   \n",
       "448                    0                   0                   0   \n",
       "3070                   0                   0                   0   \n",
       "3275                   0                   0                   1   \n",
       "\n",
       "      Location State_ PA  ...  Sector_Media  Sector_Mining & Metals  \\\n",
       "100                    0  ...             0                       0   \n",
       "451                    0  ...             0                       0   \n",
       "448                    0  ...             1                       0   \n",
       "3070                   0  ...             0                       0   \n",
       "3275                   0  ...             0                       0   \n",
       "\n",
       "      Sector_Non-Profit  Sector_Oil, Gas, Energy & Utilities  \\\n",
       "100                   0                                    0   \n",
       "451                   0                                    0   \n",
       "448                   0                                    0   \n",
       "3070                  0                                    0   \n",
       "3275                  0                                    0   \n",
       "\n",
       "      Sector_Real Estate  Sector_Restaurants, Bars & Food Services  \\\n",
       "100                    0                                         0   \n",
       "451                    0                                         0   \n",
       "448                    0                                         0   \n",
       "3070                   0                                         0   \n",
       "3275                   0                                         0   \n",
       "\n",
       "      Sector_Retail  Sector_Telecommunications  \\\n",
       "100               0                          0   \n",
       "451               0                          0   \n",
       "448               0                          0   \n",
       "3070              0                          0   \n",
       "3275              0                          0   \n",
       "\n",
       "      Sector_Transportation & Logistics  Sector_Travel & Tourism  \n",
       "100                                   0                        0  \n",
       "451                                   0                        0  \n",
       "448                                   0                        0  \n",
       "3070                                  0                        0  \n",
       "3275                                  0                        0  \n",
       "\n",
       "[5 rows x 37 columns]"
      ]
     },
     "execution_count": 4,
     "metadata": {},
     "output_type": "execute_result"
    }
   ],
   "source": [
    "def getDummies(data):\n",
    "    new_data = pd.get_dummies(data=data, drop_first = True)\n",
    "    return new_data\n",
    "\n",
    "X = getDummies(X)\n",
    "\n",
    "#previously -> getdummis df- x colmn, train test split, training model .fit\n",
    "X_train, X_test, y_train, y_test = train_test_split(X,y,test_size=0.2,random_state=47)    \n",
    "X_train.head()"
   ]
  },
  {
   "cell_type": "code",
   "execution_count": 5,
   "metadata": {},
   "outputs": [
    {
     "data": {
      "text/plain": [
       "((2656, 37), (665, 37))"
      ]
     },
     "execution_count": 5,
     "metadata": {},
     "output_type": "execute_result"
    }
   ],
   "source": [
    "X_train.shape, X_test.shape"
   ]
  },
  {
   "cell_type": "code",
   "execution_count": 6,
   "metadata": {},
   "outputs": [
    {
     "data": {
      "text/plain": [
       "((2656,), (665,))"
      ]
     },
     "execution_count": 6,
     "metadata": {},
     "output_type": "execute_result"
    }
   ],
   "source": [
    "y_train.shape,y_test.shape"
   ]
  },
  {
   "cell_type": "markdown",
   "metadata": {},
   "source": [
    "# OLS "
   ]
  },
  {
   "cell_type": "code",
   "execution_count": 7,
   "metadata": {},
   "outputs": [
    {
     "name": "stdout",
     "output_type": "stream",
     "text": [
      "                            OLS Regression Results                            \n",
      "==============================================================================\n",
      "Dep. Variable:         Average Salary   R-squared:                       0.276\n",
      "Model:                            OLS   Adj. R-squared:                  0.265\n",
      "Method:                 Least Squares   F-statistic:                     26.92\n",
      "Date:                Fri, 29 Jan 2021   Prob (F-statistic):          2.38e-154\n",
      "Time:                        14:35:38   Log-Likelihood:                -13019.\n",
      "No. Observations:                2656   AIC:                         2.611e+04\n",
      "Df Residuals:                    2618   BIC:                         2.634e+04\n",
      "Df Model:                          37                                         \n",
      "Covariance Type:            nonrobust                                         \n",
      "=============================================================================================================\n",
      "                                                coef    std err          t      P>|t|      [0.025      0.975]\n",
      "-------------------------------------------------------------------------------------------------------------\n",
      "const                                        90.5949      3.019     30.011      0.000      84.675      96.514\n",
      "Job Title_Data Engineer                       2.0279      1.809      1.121      0.262      -1.519       5.575\n",
      "Job Title_Data Scientist                      8.6594      1.633      5.302      0.000       5.457      11.862\n",
      "Location State_ CA                           34.0541      2.711     12.560      0.000      28.738      39.371\n",
      "Location State_ DE                           13.3396     14.900      0.895      0.371     -15.877      42.556\n",
      "Location State_ FL                          -18.8707      5.681     -3.321      0.001     -30.011      -7.730\n",
      "Location State_ IL                          -13.6914      3.201     -4.277      0.000     -19.968      -7.415\n",
      "Location State_ NJ                           16.7774      6.958      2.411      0.016       3.134      30.420\n",
      "Location State_ NY                           32.1948      3.417      9.423      0.000      25.495      38.894\n",
      "Location State_ OH                           -2.5341      3.938     -0.643      0.520     -10.257       5.189\n",
      "Location State_ PA                           -2.2602      3.298     -0.685      0.493      -8.727       4.207\n",
      "Location State_ TX                           -1.7639      2.645     -0.667      0.505      -6.951       3.423\n",
      "Location State_ United Kingdom               19.5649     19.224      1.018      0.309     -18.131      57.261\n",
      "Sector_Accounting & Legal                     2.7455      5.294      0.519      0.604      -7.635      13.126\n",
      "Sector_Aerospace & Defense                    3.4595      7.076      0.489      0.625     -10.416      17.335\n",
      "Sector_Agriculture & Forestry               -25.7354     19.067     -1.350      0.177     -63.124      11.653\n",
      "Sector_Arts, Entertainment & Recreation       8.4321     11.161      0.756      0.450     -13.452      30.317\n",
      "Sector_Biotech & Pharmaceuticals             -4.5994      2.919     -1.576      0.115     -10.323       1.124\n",
      "Sector_Business Services                      2.3399      2.284      1.024      0.306      -2.140       6.819\n",
      "Sector_Construction, Repair & Maintenance    19.0448     11.737      1.623      0.105      -3.970      42.060\n",
      "Sector_Consumer Services                     11.5308      9.291      1.241      0.215      -6.687      29.749\n",
      "Sector_Education                             -4.3680      4.660     -0.937      0.349     -13.506       4.770\n",
      "Sector_Finance                                1.8987      3.045      0.624      0.533      -4.072       7.869\n",
      "Sector_Government                             0.4373      4.628      0.094      0.925      -8.638       9.513\n",
      "Sector_Health Care                           -2.5576      3.258     -0.785      0.432      -8.946       3.831\n",
      "Sector_Information Technology                 8.2980      2.103      3.947      0.000       4.175      12.421\n",
      "Sector_Insurance                              4.6703      4.002      1.167      0.243      -3.178      12.519\n",
      "Sector_Manufacturing                          5.0464      4.424      1.141      0.254      -3.628      13.721\n",
      "Sector_Media                                  7.2661      4.726      1.537      0.124      -2.001      16.534\n",
      "Sector_Mining & Metals                      -13.3722     33.484     -0.399      0.690     -79.030      52.285\n",
      "Sector_Non-Profit                             4.0364     10.082      0.400      0.689     -15.733      23.805\n",
      "Sector_Oil, Gas, Energy & Utilities           7.4272      7.075      1.050      0.294      -6.445      21.300\n",
      "Sector_Real Estate                           11.5043     11.729      0.981      0.327     -11.494      34.503\n",
      "Sector_Restaurants, Bars & Food Services    -14.0303     12.547     -1.118      0.264     -38.634      10.573\n",
      "Sector_Retail                                 8.5098      5.242      1.623      0.105      -1.770      18.789\n",
      "Sector_Telecommunications                     4.9113      8.944      0.549      0.583     -12.626      22.449\n",
      "Sector_Transportation & Logistics            -0.0499     10.543     -0.005      0.996     -20.722      20.623\n",
      "Sector_Travel & Tourism                     -14.1615     19.057     -0.743      0.457     -51.530      23.207\n",
      "==============================================================================\n",
      "Omnibus:                       43.612   Durbin-Watson:                   1.957\n",
      "Prob(Omnibus):                  0.000   Jarque-Bera (JB):               45.383\n",
      "Skew:                           0.312   Prob(JB):                     1.40e-10\n",
      "Kurtosis:                       3.143   Cond. No.                         68.2\n",
      "==============================================================================\n",
      "\n",
      "Warnings:\n",
      "[1] Standard Errors assume that the covariance matrix of the errors is correctly specified.\n",
      "\n",
      "Average error: 32.78.\n"
     ]
    }
   ],
   "source": [
    "#Run regression using statsmodels\n",
    "import statsmodels.api as sm\n",
    "import math\n",
    "from sklearn.metrics import mean_squared_error\n",
    "\n",
    "X_train = sm.add_constant(X_train) # required if constant expected\n",
    "est = sm.OLS(y_train,X_train).fit() # fit model\n",
    "predictions = est.predict() # get predicted values\n",
    "print(est.summary()) # prints full regression results\n",
    "print(\"\\nAverage error: {:.2f}.\".format(math.sqrt(est.mse_resid)))"
   ]
  },
  {
   "cell_type": "code",
   "execution_count": 8,
   "metadata": {},
   "outputs": [
    {
     "name": "stdout",
     "output_type": "stream",
     "text": [
      "                            OLS Regression Results                            \n",
      "==============================================================================\n",
      "Dep. Variable:         Average Salary   R-squared:                       0.302\n",
      "Model:                            OLS   Adj. R-squared:                  0.263\n",
      "Method:                 Least Squares   F-statistic:                     7.784\n",
      "Date:                Fri, 29 Jan 2021   Prob (F-statistic):           6.33e-31\n",
      "Time:                        14:35:38   Log-Likelihood:                -3259.3\n",
      "No. Observations:                 665   AIC:                             6591.\n",
      "Df Residuals:                     629   BIC:                             6753.\n",
      "Df Model:                          35                                         \n",
      "Covariance Type:            nonrobust                                         \n",
      "=============================================================================================================\n",
      "                                                coef    std err          t      P>|t|      [0.025      0.975]\n",
      "-------------------------------------------------------------------------------------------------------------\n",
      "const                                        87.5421      6.818     12.840      0.000      74.154     100.931\n",
      "Job Title_Data Engineer                       2.1929      3.930      0.558      0.577      -5.524       9.910\n",
      "Job Title_Data Scientist                      4.9539      3.502      1.415      0.158      -1.922      11.830\n",
      "Location State_ CA                           34.8079      5.920      5.880      0.000      23.183      46.433\n",
      "Location State_ DE                           35.1238     24.291      1.446      0.149     -12.578      82.826\n",
      "Location State_ FL                          -20.2820     12.934     -1.568      0.117     -45.680       5.117\n",
      "Location State_ IL                           -4.8079      6.994     -0.687      0.492     -18.543       8.927\n",
      "Location State_ NJ                           27.9487     16.248      1.720      0.086      -3.957      59.855\n",
      "Location State_ NY                           40.0677      6.658      6.018      0.000      26.994      53.141\n",
      "Location State_ OH                            3.1294      7.963      0.393      0.694     -12.507      18.766\n",
      "Location State_ PA                            2.0780      7.171      0.290      0.772     -12.004      16.160\n",
      "Location State_ TX                           -1.8068      5.760     -0.314      0.754     -13.117       9.503\n",
      "Location State_ United Kingdom              -30.1196     34.414     -0.875      0.382     -97.701      37.462\n",
      "Sector_Accounting & Legal                     9.9633      9.955      1.001      0.317      -9.586      29.512\n",
      "Sector_Aerospace & Defense                   10.3956     11.852      0.877      0.381     -12.879      33.670\n",
      "Sector_Agriculture & Forestry               -20.3039     24.048     -0.844      0.399     -67.528      26.920\n",
      "Sector_Arts, Entertainment & Recreation       -6e-15   2.58e-14     -0.233      0.816   -5.67e-14    4.47e-14\n",
      "Sector_Biotech & Pharmaceuticals              2.1236      7.058      0.301      0.764     -11.736      15.983\n",
      "Sector_Business Services                     -0.3920      4.761     -0.082      0.934      -9.741       8.957\n",
      "Sector_Construction, Repair & Maintenance    42.4729     19.759      2.150      0.032       3.671      81.275\n",
      "Sector_Consumer Services                    -18.6168     17.137     -1.086      0.278     -52.270      15.037\n",
      "Sector_Education                             -3.4659      8.130     -0.426      0.670     -19.431      12.499\n",
      "Sector_Finance                                3.4574      6.815      0.507      0.612      -9.925      16.840\n",
      "Sector_Government                             8.2188      8.715      0.943      0.346      -8.895      25.333\n",
      "Sector_Health Care                           -0.7557      6.439     -0.117      0.907     -13.400      11.889\n",
      "Sector_Information Technology                15.9133      4.164      3.822      0.000       7.737      24.090\n",
      "Sector_Insurance                             -2.4097     10.714     -0.225      0.822     -23.448      18.629\n",
      "Sector_Manufacturing                         15.2130      9.981      1.524      0.128      -4.388      34.814\n",
      "Sector_Media                                  6.7695     10.782      0.628      0.530     -14.403      27.942\n",
      "Sector_Mining & Metals                      1.04e-15    7.2e-15      0.144      0.885   -1.31e-14    1.52e-14\n",
      "Sector_Non-Profit                             6.3370     15.993      0.396      0.692     -25.068      37.742\n",
      "Sector_Oil, Gas, Energy & Utilities           4.5331     11.744      0.386      0.700     -18.530      27.596\n",
      "Sector_Real Estate                            2.6961     33.732      0.080      0.936     -63.544      68.937\n",
      "Sector_Restaurants, Bars & Food Services     24.3903     33.940      0.719      0.473     -42.260      91.040\n",
      "Sector_Retail                                17.6651      9.724      1.817      0.070      -1.429      36.760\n",
      "Sector_Telecommunications                     5.7592     17.132      0.336      0.737     -27.884      39.402\n",
      "Sector_Transportation & Logistics            19.4826     17.281      1.127      0.260     -14.452      53.417\n",
      "Sector_Travel & Tourism                      13.4363     33.819      0.397      0.691     -52.976      79.849\n",
      "==============================================================================\n",
      "Omnibus:                        9.327   Durbin-Watson:                   1.945\n",
      "Prob(Omnibus):                  0.009   Jarque-Bera (JB):                9.584\n",
      "Skew:                           0.289   Prob(JB):                      0.00830\n",
      "Kurtosis:                       2.887   Cond. No.                     1.32e+16\n",
      "==============================================================================\n",
      "\n",
      "Warnings:\n",
      "[1] Standard Errors assume that the covariance matrix of the errors is correctly specified.\n",
      "[2] The smallest eigenvalue is 6.64e-30. This might indicate that there are\n",
      "strong multicollinearity problems or that the design matrix is singular.\n",
      "\n",
      "Average error: 33.45.\n"
     ]
    }
   ],
   "source": [
    "# Run regression using statsmodels\n",
    "import statsmodels.api as sm\n",
    "\n",
    "X_test = sm.add_constant(X_test) # required if constant expected\n",
    "est = sm.OLS(y_test,X_test).fit() # fit model\n",
    "predictions = est.predict() # get predicted values\n",
    "print(est.summary()) # prints full regression results\n",
    "print(\"\\nAverage error: {:.2f}.\".format(math.sqrt(est.mse_resid)))"
   ]
  },
  {
   "cell_type": "markdown",
   "metadata": {},
   "source": [
    "# First, we try a Linear Regression:"
   ]
  },
  {
   "cell_type": "markdown",
   "metadata": {},
   "source": [
    "Split the data into a training and test (hold-out) set\n",
    "Train on the training set, and test for accuracy on the testing set"
   ]
  },
  {
   "cell_type": "code",
   "execution_count": 9,
   "metadata": {},
   "outputs": [
    {
     "name": "stdout",
     "output_type": "stream",
     "text": [
      "\n",
      "Model Accuracy:-  27.557231713466134 %\n",
      "\n",
      "Test Data Accuracy:-  27.084810132953173 %\n"
     ]
    }
   ],
   "source": [
    "# train using Linear model\n",
    "from sklearn.linear_model import LinearRegression\n",
    "linear_reg=LinearRegression()\n",
    "linear_reg.fit(X_train,y_train)\n",
    "\n",
    "#accuracy\n",
    "accuracy = linear_reg.score(X_train,y_train)\n",
    "print('\\nModel Accuracy:- ', accuracy*100,'%')\n",
    "\n",
    "accuracy = linear_reg.score(X_test,y_test)\n",
    "print('\\nTest Data Accuracy:- ', accuracy*100,'%')"
   ]
  },
  {
   "cell_type": "code",
   "execution_count": 10,
   "metadata": {},
   "outputs": [],
   "source": [
    "\n",
    "#y_true, y_pred, *, labels=None, sample_weight=None, normalize=None\n",
    "y_pred = linear_reg.predict(X_test)\n",
    "\n",
    "#y_pred"
   ]
  },
  {
   "cell_type": "code",
   "execution_count": 11,
   "metadata": {},
   "outputs": [
    {
     "data": {
      "image/png": "[encoded data removed]",
      "text/plain": [
       "<Figure size 1152x720 with 1 Axes>"
      ]
     },
     "metadata": {
      "needs_background": "light"
     },
     "output_type": "display_data"
    }
   ],
   "source": [
    "#create dictionary Actual vs prediction\n",
    "df1 = pd.DataFrame({'Actual': y_test, 'Predicted': y_pred})\n",
    "df1.tail() #tail\n",
    "\n",
    "# Draw graph Actual vs Pridicted\n",
    "df2 = df1.tail(25)\n",
    "df2.plot(kind='bar',figsize=(16,10))\n",
    "plt.grid(which='major', linestyle='-', linewidth='0.5', color='green')\n",
    "plt.grid(which='minor', linestyle=':', linewidth='0.5', color='black')\n",
    "plt.xlabel('ID')\n",
    "plt.ylabel(\"Average Salary\")\n",
    "plt.title('Actual vs Pridicted for Combine Milage')\n",
    "#plt.savefig('img/Figure 4b. Mpg(pridicted vs Actual).png', format='png') # save fig\n",
    "plt.show()\n",
    "\n",
    "\n"
   ]
  },
  {
   "cell_type": "markdown",
   "metadata": {},
   "source": [
    "#### extract 3 raqndom Sample and draw confusion Matrix"
   ]
  },
  {
   "cell_type": "code",
   "execution_count": 12,
   "metadata": {},
   "outputs": [
    {
     "name": "stdout",
     "output_type": "stream",
     "text": [
      "Creating three random sample from mushroom dataset\n",
      "\n",
      "Below test data is unseen by Model during it's training\n"
     ]
    },
    {
     "data": {
      "text/plain": [
       "array([141.60631317,  92.39466932, 133.78897528])"
      ]
     },
     "execution_count": 12,
     "metadata": {},
     "output_type": "execute_result"
    }
   ],
   "source": [
    "# Collect 3 Random Samples for prediction; from unseen data\n",
    "Sample_X_test = X_test.sample(n=3, random_state=2)\n",
    "print(\"Creating three random sample from mushroom dataset\")\n",
    "print(\"\\nBelow test data is unseen by Model during it's training\")\n",
    "#prediction for 3 samples\n",
    "pred = linear_reg.predict(Sample_X_test)\n",
    "Sample_X_test\n",
    "pred"
   ]
  },
  {
   "cell_type": "code",
   "execution_count": 13,
   "metadata": {},
   "outputs": [
    {
     "name": "stdout",
     "output_type": "stream",
     "text": [
      "Featured 3 sample data used for prediction\n"
     ]
    },
    {
     "data": {
      "text/html": [
       "<div>\n",
       "<style scoped>\n",
       "    .dataframe tbody tr th:only-of-type {\n",
       "        vertical-align: middle;\n",
       "    }\n",
       "\n",
       "    .dataframe tbody tr th {\n",
       "        vertical-align: top;\n",
       "    }\n",
       "\n",
       "    .dataframe thead th {\n",
       "        text-align: right;\n",
       "    }\n",
       "</style>\n",
       "<table border=\"1\" class=\"dataframe\">\n",
       "  <thead>\n",
       "    <tr style=\"text-align: right;\">\n",
       "      <th></th>\n",
       "      <th>Job Title</th>\n",
       "      <th>Location State</th>\n",
       "      <th>Sector</th>\n",
       "    </tr>\n",
       "  </thead>\n",
       "  <tbody>\n",
       "    <tr>\n",
       "      <th>First Sample</th>\n",
       "      <td>Data Scientist</td>\n",
       "      <td>CA</td>\n",
       "      <td>Information Technology</td>\n",
       "    </tr>\n",
       "    <tr>\n",
       "      <th>Second Sample</th>\n",
       "      <td>Data Scientist</td>\n",
       "      <td>PA</td>\n",
       "      <td>Biotech &amp; Pharmaceuticals</td>\n",
       "    </tr>\n",
       "    <tr>\n",
       "      <th>Third Sample</th>\n",
       "      <td>Data Scientist</td>\n",
       "      <td>NY</td>\n",
       "      <td>Business Services</td>\n",
       "    </tr>\n",
       "  </tbody>\n",
       "</table>\n",
       "</div>"
      ],
      "text/plain": [
       "                    Job Title Location State                     Sector\n",
       "First Sample   Data Scientist             CA     Information Technology\n",
       "Second Sample  Data Scientist             PA  Biotech & Pharmaceuticals\n",
       "Third Sample   Data Scientist             NY          Business Services"
      ]
     },
     "execution_count": 13,
     "metadata": {},
     "output_type": "execute_result"
    }
   ],
   "source": [
    "print(\"Featured 3 sample data used for prediction\")\n",
    "col_list = ['Job Title', 'Location State','Sector']\n",
    "pd.DataFrame({'First Sample' : merged_df.iloc[2554][col_list],\n",
    "              'Second Sample' : merged_df.iloc[1566][col_list],\n",
    "              'Third Sample' : merged_df.iloc[135][col_list]}).T\n"
   ]
  },
  {
   "cell_type": "code",
   "execution_count": 14,
   "metadata": {
    "scrolled": true
   },
   "outputs": [
    {
     "data": {
      "text/plain": [
       "2554    225.0\n",
       "1566     96.5\n",
       "135     169.5\n",
       "Name: Average Salary, dtype: float64"
      ]
     },
     "execution_count": 14,
     "metadata": {},
     "output_type": "execute_result"
    }
   ],
   "source": [
    "Sample_Y_test = y_test.sample(n=3, random_state=2)\n",
    "Sample_Y_test"
   ]
  },
  {
   "cell_type": "code",
   "execution_count": 15,
   "metadata": {},
   "outputs": [
    {
     "name": "stdout",
     "output_type": "stream",
     "text": [
      "\n",
      "1. Safe Model Confusion Matrix for Training Data :- \n",
      "\n"
     ]
    },
    {
     "data": {
      "text/html": [
       "<div>\n",
       "<style scoped>\n",
       "    .dataframe tbody tr th:only-of-type {\n",
       "        vertical-align: middle;\n",
       "    }\n",
       "\n",
       "    .dataframe tbody tr th {\n",
       "        vertical-align: top;\n",
       "    }\n",
       "\n",
       "    .dataframe thead th {\n",
       "        text-align: right;\n",
       "    }\n",
       "</style>\n",
       "<table border=\"1\" class=\"dataframe\">\n",
       "  <thead>\n",
       "    <tr style=\"text-align: right;\">\n",
       "      <th>col_0</th>\n",
       "      <th>92.394669</th>\n",
       "      <th>133.788975</th>\n",
       "      <th>141.606313</th>\n",
       "    </tr>\n",
       "    <tr>\n",
       "      <th>Average Salary</th>\n",
       "      <th></th>\n",
       "      <th></th>\n",
       "      <th></th>\n",
       "    </tr>\n",
       "  </thead>\n",
       "  <tbody>\n",
       "    <tr>\n",
       "      <th>96.5</th>\n",
       "      <td>1</td>\n",
       "      <td>0</td>\n",
       "      <td>0</td>\n",
       "    </tr>\n",
       "    <tr>\n",
       "      <th>169.5</th>\n",
       "      <td>0</td>\n",
       "      <td>1</td>\n",
       "      <td>0</td>\n",
       "    </tr>\n",
       "    <tr>\n",
       "      <th>225.0</th>\n",
       "      <td>0</td>\n",
       "      <td>0</td>\n",
       "      <td>1</td>\n",
       "    </tr>\n",
       "  </tbody>\n",
       "</table>\n",
       "</div>"
      ],
      "text/plain": [
       "col_0           92.394669   133.788975  141.606313\n",
       "Average Salary                                    \n",
       "96.5                     1           0           0\n",
       "169.5                    0           1           0\n",
       "225.0                    0           0           1"
      ]
     },
     "execution_count": 15,
     "metadata": {},
     "output_type": "execute_result"
    }
   ],
   "source": [
    "from sklearn.metrics import confusion_matrix\n",
    "\n",
    "\n",
    "print(\"\\n1. Safe Model Confusion Matrix for Training Data :- \\n\")\n",
    "pd.crosstab(Sample_Y_test,pred)\n",
    "#confusion_matrix(Sample_Y_test.astype(int),pred.astype(int))\n",
    "#pd.DataFrame(confusion_matrix(y_train,pred))\n",
    "#pred\n",
    "#pred1"
   ]
  },
  {
   "cell_type": "markdown",
   "metadata": {},
   "source": [
    "Convert random sample to user readable"
   ]
  },
  {
   "cell_type": "markdown",
   "metadata": {},
   "source": [
    "# Confusion Matrix"
   ]
  },
  {
   "cell_type": "code",
   "execution_count": 16,
   "metadata": {},
   "outputs": [
    {
     "name": "stdout",
     "output_type": "stream",
     "text": [
      "Creating three random sample from mushroom dataset\n",
      "\n",
      "Below test data is unseen by Model during it's training\n"
     ]
    },
    {
     "data": {
      "text/html": [
       "<div>\n",
       "<style scoped>\n",
       "    .dataframe tbody tr th:only-of-type {\n",
       "        vertical-align: middle;\n",
       "    }\n",
       "\n",
       "    .dataframe tbody tr th {\n",
       "        vertical-align: top;\n",
       "    }\n",
       "\n",
       "    .dataframe thead th {\n",
       "        text-align: right;\n",
       "    }\n",
       "</style>\n",
       "<table border=\"1\" class=\"dataframe\">\n",
       "  <thead>\n",
       "    <tr style=\"text-align: right;\">\n",
       "      <th></th>\n",
       "      <th>const</th>\n",
       "      <th>Job Title_Data Engineer</th>\n",
       "      <th>Job Title_Data Scientist</th>\n",
       "      <th>Location State_ CA</th>\n",
       "      <th>Location State_ DE</th>\n",
       "      <th>Location State_ FL</th>\n",
       "      <th>Location State_ IL</th>\n",
       "      <th>Location State_ NJ</th>\n",
       "      <th>Location State_ NY</th>\n",
       "      <th>Location State_ OH</th>\n",
       "      <th>...</th>\n",
       "      <th>Sector_Media</th>\n",
       "      <th>Sector_Mining &amp; Metals</th>\n",
       "      <th>Sector_Non-Profit</th>\n",
       "      <th>Sector_Oil, Gas, Energy &amp; Utilities</th>\n",
       "      <th>Sector_Real Estate</th>\n",
       "      <th>Sector_Restaurants, Bars &amp; Food Services</th>\n",
       "      <th>Sector_Retail</th>\n",
       "      <th>Sector_Telecommunications</th>\n",
       "      <th>Sector_Transportation &amp; Logistics</th>\n",
       "      <th>Sector_Travel &amp; Tourism</th>\n",
       "    </tr>\n",
       "  </thead>\n",
       "  <tbody>\n",
       "    <tr>\n",
       "      <th>2554</th>\n",
       "      <td>1.0</td>\n",
       "      <td>0</td>\n",
       "      <td>1</td>\n",
       "      <td>1</td>\n",
       "      <td>0</td>\n",
       "      <td>0</td>\n",
       "      <td>0</td>\n",
       "      <td>0</td>\n",
       "      <td>0</td>\n",
       "      <td>0</td>\n",
       "      <td>...</td>\n",
       "      <td>0</td>\n",
       "      <td>0</td>\n",
       "      <td>0</td>\n",
       "      <td>0</td>\n",
       "      <td>0</td>\n",
       "      <td>0</td>\n",
       "      <td>0</td>\n",
       "      <td>0</td>\n",
       "      <td>0</td>\n",
       "      <td>0</td>\n",
       "    </tr>\n",
       "    <tr>\n",
       "      <th>1566</th>\n",
       "      <td>1.0</td>\n",
       "      <td>0</td>\n",
       "      <td>1</td>\n",
       "      <td>0</td>\n",
       "      <td>0</td>\n",
       "      <td>0</td>\n",
       "      <td>0</td>\n",
       "      <td>0</td>\n",
       "      <td>0</td>\n",
       "      <td>0</td>\n",
       "      <td>...</td>\n",
       "      <td>0</td>\n",
       "      <td>0</td>\n",
       "      <td>0</td>\n",
       "      <td>0</td>\n",
       "      <td>0</td>\n",
       "      <td>0</td>\n",
       "      <td>0</td>\n",
       "      <td>0</td>\n",
       "      <td>0</td>\n",
       "      <td>0</td>\n",
       "    </tr>\n",
       "    <tr>\n",
       "      <th>135</th>\n",
       "      <td>1.0</td>\n",
       "      <td>0</td>\n",
       "      <td>1</td>\n",
       "      <td>0</td>\n",
       "      <td>0</td>\n",
       "      <td>0</td>\n",
       "      <td>0</td>\n",
       "      <td>0</td>\n",
       "      <td>1</td>\n",
       "      <td>0</td>\n",
       "      <td>...</td>\n",
       "      <td>0</td>\n",
       "      <td>0</td>\n",
       "      <td>0</td>\n",
       "      <td>0</td>\n",
       "      <td>0</td>\n",
       "      <td>0</td>\n",
       "      <td>0</td>\n",
       "      <td>0</td>\n",
       "      <td>0</td>\n",
       "      <td>0</td>\n",
       "    </tr>\n",
       "  </tbody>\n",
       "</table>\n",
       "<p>3 rows × 38 columns</p>\n",
       "</div>"
      ],
      "text/plain": [
       "      const  Job Title_Data Engineer  Job Title_Data Scientist  \\\n",
       "2554    1.0                        0                         1   \n",
       "1566    1.0                        0                         1   \n",
       "135     1.0                        0                         1   \n",
       "\n",
       "      Location State_ CA  Location State_ DE  Location State_ FL  \\\n",
       "2554                   1                   0                   0   \n",
       "1566                   0                   0                   0   \n",
       "135                    0                   0                   0   \n",
       "\n",
       "      Location State_ IL  Location State_ NJ  Location State_ NY  \\\n",
       "2554                   0                   0                   0   \n",
       "1566                   0                   0                   0   \n",
       "135                    0                   0                   1   \n",
       "\n",
       "      Location State_ OH  ...  Sector_Media  Sector_Mining & Metals  \\\n",
       "2554                   0  ...             0                       0   \n",
       "1566                   0  ...             0                       0   \n",
       "135                    0  ...             0                       0   \n",
       "\n",
       "      Sector_Non-Profit  Sector_Oil, Gas, Energy & Utilities  \\\n",
       "2554                  0                                    0   \n",
       "1566                  0                                    0   \n",
       "135                   0                                    0   \n",
       "\n",
       "      Sector_Real Estate  Sector_Restaurants, Bars & Food Services  \\\n",
       "2554                   0                                         0   \n",
       "1566                   0                                         0   \n",
       "135                    0                                         0   \n",
       "\n",
       "      Sector_Retail  Sector_Telecommunications  \\\n",
       "2554              0                          0   \n",
       "1566              0                          0   \n",
       "135               0                          0   \n",
       "\n",
       "      Sector_Transportation & Logistics  Sector_Travel & Tourism  \n",
       "2554                                  0                        0  \n",
       "1566                                  0                        0  \n",
       "135                                   0                        0  \n",
       "\n",
       "[3 rows x 38 columns]"
      ]
     },
     "execution_count": 16,
     "metadata": {},
     "output_type": "execute_result"
    }
   ],
   "source": [
    "# Collect 3 Random Samples for prediction; from unseen data\n",
    "pred1 = X_test.sample(n=3, random_state=2)\n",
    "print(\"Creating three random sample from mushroom dataset\")\n",
    "print(\"\\nBelow test data is unseen by Model during it's training\")\n",
    "pred1"
   ]
  },
  {
   "cell_type": "markdown",
   "metadata": {},
   "source": [
    "# Use K Fold cross validation to measure accuracy of our Linear Regression model"
   ]
  },
  {
   "cell_type": "markdown",
   "metadata": {},
   "source": [
    "Tuning the Model\n",
    "The model has some hyperparameters we can tune for hopefully better performance. For tuning the parameters of model, i m using mix of cross-validation and grid search. In Logistic Regression, the most important parameter to tune is the regularization parameter C. Note that the regularization parameter is not always part of the logistic regression model.\n",
    "\n",
    "The regularization parameter is used to control for unlikely high regression coefficients, and in other cases can be used when data is sparse, as a method of feature selection.\n",
    "\n",
    "Now implement some code to perform model tuning and selecting the regularization parameter $C$.\n",
    "\n",
    "We use the following cv_score function to perform K-fold cross-validation and apply a scoring function to each test fold. In this incarnation we use accuracy score as the default scoring function."
   ]
  },
  {
   "cell_type": "code",
   "execution_count": 18,
   "metadata": {},
   "outputs": [
    {
     "data": {
      "text/plain": [
       "array([0.26896289, 0.23069899, 0.27852024, 0.2807164 , 0.29096556,\n",
       "       0.25513415, 0.21164411, 0.23703873, 0.29498022, 0.29959361])"
      ]
     },
     "execution_count": 18,
     "metadata": {},
     "output_type": "execute_result"
    }
   ],
   "source": [
    "from sklearn.model_selection import ShuffleSplit\n",
    "from sklearn.model_selection import cross_val_score\n",
    "\n",
    "cv = ShuffleSplit(n_splits=10, test_size=0.2, random_state=0)\n",
    "\n",
    "cross_val_score(LinearRegression(), X, y, cv=cv)"
   ]
  },
  {
   "cell_type": "code",
   "execution_count": 19,
   "metadata": {},
   "outputs": [
    {
     "ename": "ValueError",
     "evalue": "Unknown label type: 'continuous'",
     "output_type": "error",
     "traceback": [
      "\u001b[1;31m---------------------------------------------------------------------------\u001b[0m",
      "\u001b[1;31mValueError\u001b[0m                                Traceback (most recent call last)",
      "\u001b[1;32m<ipython-input-19-32b39236e14f>\u001b[0m in \u001b[0;36m<module>\u001b[1;34m\u001b[0m\n\u001b[0;32m      4\u001b[0m \u001b[0mclf\u001b[0m \u001b[1;33m=\u001b[0m \u001b[0mDecisionTreeClassifier\u001b[0m\u001b[1;33m(\u001b[0m\u001b[0mcriterion\u001b[0m\u001b[1;33m=\u001b[0m\u001b[1;34m\"entropy\"\u001b[0m\u001b[1;33m,\u001b[0m \u001b[0mmax_depth\u001b[0m\u001b[1;33m=\u001b[0m\u001b[1;36m3\u001b[0m\u001b[1;33m)\u001b[0m\u001b[1;33m\u001b[0m\u001b[1;33m\u001b[0m\u001b[0m\n\u001b[0;32m      5\u001b[0m \u001b[1;31m# Train Decision Tree Classifer\u001b[0m\u001b[1;33m\u001b[0m\u001b[1;33m\u001b[0m\u001b[1;33m\u001b[0m\u001b[0m\n\u001b[1;32m----> 6\u001b[1;33m \u001b[0mclf\u001b[0m \u001b[1;33m=\u001b[0m \u001b[0mclf\u001b[0m\u001b[1;33m.\u001b[0m\u001b[0mfit\u001b[0m\u001b[1;33m(\u001b[0m\u001b[0mX_train\u001b[0m\u001b[1;33m,\u001b[0m\u001b[0my_train\u001b[0m\u001b[1;33m)\u001b[0m\u001b[1;33m\u001b[0m\u001b[1;33m\u001b[0m\u001b[0m\n\u001b[0m\u001b[0;32m      7\u001b[0m \u001b[1;31m#Predict the response for test dataset\u001b[0m\u001b[1;33m\u001b[0m\u001b[1;33m\u001b[0m\u001b[1;33m\u001b[0m\u001b[0m\n\u001b[0;32m      8\u001b[0m \u001b[0my_pred\u001b[0m \u001b[1;33m=\u001b[0m \u001b[0mclf\u001b[0m\u001b[1;33m.\u001b[0m\u001b[0mpredict\u001b[0m\u001b[1;33m(\u001b[0m\u001b[0mX_test\u001b[0m\u001b[1;33m)\u001b[0m\u001b[1;33m\u001b[0m\u001b[1;33m\u001b[0m\u001b[0m\n",
      "\u001b[1;32mE:\\anaconda\\lib\\site-packages\\sklearn\\tree\\_classes.py\u001b[0m in \u001b[0;36mfit\u001b[1;34m(self, X, y, sample_weight, check_input, X_idx_sorted)\u001b[0m\n\u001b[0;32m    892\u001b[0m             \u001b[0msample_weight\u001b[0m\u001b[1;33m=\u001b[0m\u001b[0msample_weight\u001b[0m\u001b[1;33m,\u001b[0m\u001b[1;33m\u001b[0m\u001b[1;33m\u001b[0m\u001b[0m\n\u001b[0;32m    893\u001b[0m             \u001b[0mcheck_input\u001b[0m\u001b[1;33m=\u001b[0m\u001b[0mcheck_input\u001b[0m\u001b[1;33m,\u001b[0m\u001b[1;33m\u001b[0m\u001b[1;33m\u001b[0m\u001b[0m\n\u001b[1;32m--> 894\u001b[1;33m             X_idx_sorted=X_idx_sorted)\n\u001b[0m\u001b[0;32m    895\u001b[0m         \u001b[1;32mreturn\u001b[0m \u001b[0mself\u001b[0m\u001b[1;33m\u001b[0m\u001b[1;33m\u001b[0m\u001b[0m\n\u001b[0;32m    896\u001b[0m \u001b[1;33m\u001b[0m\u001b[0m\n",
      "\u001b[1;32mE:\\anaconda\\lib\\site-packages\\sklearn\\tree\\_classes.py\u001b[0m in \u001b[0;36mfit\u001b[1;34m(self, X, y, sample_weight, check_input, X_idx_sorted)\u001b[0m\n\u001b[0;32m    179\u001b[0m \u001b[1;33m\u001b[0m\u001b[0m\n\u001b[0;32m    180\u001b[0m         \u001b[1;32mif\u001b[0m \u001b[0mis_classification\u001b[0m\u001b[1;33m:\u001b[0m\u001b[1;33m\u001b[0m\u001b[1;33m\u001b[0m\u001b[0m\n\u001b[1;32m--> 181\u001b[1;33m             \u001b[0mcheck_classification_targets\u001b[0m\u001b[1;33m(\u001b[0m\u001b[0my\u001b[0m\u001b[1;33m)\u001b[0m\u001b[1;33m\u001b[0m\u001b[1;33m\u001b[0m\u001b[0m\n\u001b[0m\u001b[0;32m    182\u001b[0m             \u001b[0my\u001b[0m \u001b[1;33m=\u001b[0m \u001b[0mnp\u001b[0m\u001b[1;33m.\u001b[0m\u001b[0mcopy\u001b[0m\u001b[1;33m(\u001b[0m\u001b[0my\u001b[0m\u001b[1;33m)\u001b[0m\u001b[1;33m\u001b[0m\u001b[1;33m\u001b[0m\u001b[0m\n\u001b[0;32m    183\u001b[0m \u001b[1;33m\u001b[0m\u001b[0m\n",
      "\u001b[1;32mE:\\anaconda\\lib\\site-packages\\sklearn\\utils\\multiclass.py\u001b[0m in \u001b[0;36mcheck_classification_targets\u001b[1;34m(y)\u001b[0m\n\u001b[0;32m    170\u001b[0m     if y_type not in ['binary', 'multiclass', 'multiclass-multioutput',\n\u001b[0;32m    171\u001b[0m                       'multilabel-indicator', 'multilabel-sequences']:\n\u001b[1;32m--> 172\u001b[1;33m         \u001b[1;32mraise\u001b[0m \u001b[0mValueError\u001b[0m\u001b[1;33m(\u001b[0m\u001b[1;34m\"Unknown label type: %r\"\u001b[0m \u001b[1;33m%\u001b[0m \u001b[0my_type\u001b[0m\u001b[1;33m)\u001b[0m\u001b[1;33m\u001b[0m\u001b[1;33m\u001b[0m\u001b[0m\n\u001b[0m\u001b[0;32m    173\u001b[0m \u001b[1;33m\u001b[0m\u001b[0m\n\u001b[0;32m    174\u001b[0m \u001b[1;33m\u001b[0m\u001b[0m\n",
      "\u001b[1;31mValueError\u001b[0m: Unknown label type: 'continuous'"
     ]
    }
   ],
   "source": [
    "from sklearn.tree import DecisionTreeClassifier # Import Decision Tree Classifier\n",
    "\n",
    "#Create Decision Tree classifer object\n",
    "clf = DecisionTreeClassifier(criterion=\"entropy\", max_depth=3)\n",
    "# Train Decision Tree Classifer\n",
    "clf = clf.fit(X_train,y_train)\n",
    "#Predict the response for test dataset\n",
    "y_pred = clf.predict(X_test)\n",
    "# Model Accuracy, how often is the classifier correct?\n",
    "print(\"Accuracy:\",metrics.accuracy_score(y_test, y_pred))"
   ]
  },
  {
   "cell_type": "code",
   "execution_count": null,
   "metadata": {},
   "outputs": [],
   "source": []
  }
 ],
 "metadata": {
  "kernelspec": {
   "display_name": "Python 3",
   "language": "python",
   "name": "python3"
  },
  "language_info": {
   "codemirror_mode": {
    "name": "ipython",
    "version": 3
   },
   "file_extension": ".py",
   "mimetype": "text/x-python",
   "name": "python",
   "nbconvert_exporter": "python",
   "pygments_lexer": "ipython3",
   "version": "3.7.9"
  }
 },
 "nbformat": 4,
 "nbformat_minor": 4
}
