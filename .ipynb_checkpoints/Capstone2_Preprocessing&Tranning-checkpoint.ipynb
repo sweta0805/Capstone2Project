{
 "cells": [
  {
   "cell_type": "markdown",
   "metadata": {},
   "source": [
    "# 4 Pre-Processing and Training Data"
   ]
  },
  {
   "cell_type": "markdown",
   "metadata": {},
   "source": [
    "# Imports"
   ]
  },
  {
   "cell_type": "code",
   "execution_count": 1,
   "metadata": {},
   "outputs": [],
   "source": [
    "import pandas as pd\n",
    "import numpy as np\n",
    "import os\n",
    "import pickle\n",
    "import matplotlib.pyplot as plt\n",
    "import seaborn as sns\n",
    "from sklearn.dummy import DummyRegressor\n",
    "from sklearn.model_selection import train_test_split, cross_validate, GridSearchCV\n",
    "from sklearn.metrics import r2_score, mean_squared_error, mean_absolute_error\n",
    "from sklearn.feature_selection import SelectKBest, f_regression\n",
    "import graphviz"
   ]
  },
  {
   "cell_type": "markdown",
   "metadata": {},
   "source": [
    "# Load Data"
   ]
  },
  {
   "cell_type": "code",
   "execution_count": 2,
   "metadata": {},
   "outputs": [],
   "source": [
    "datascientist_data = pd.read_csv('raw_data/datascientist_data_step3_features.csv')"
   ]
  },
  {
   "cell_type": "code",
   "execution_count": 3,
   "metadata": {},
   "outputs": [
    {
     "data": {
      "text/html": [
       "<div>\n",
       "<style scoped>\n",
       "    .dataframe tbody tr th:only-of-type {\n",
       "        vertical-align: middle;\n",
       "    }\n",
       "\n",
       "    .dataframe tbody tr th {\n",
       "        vertical-align: top;\n",
       "    }\n",
       "\n",
       "    .dataframe thead th {\n",
       "        text-align: right;\n",
       "    }\n",
       "</style>\n",
       "<table border=\"1\" class=\"dataframe\">\n",
       "  <thead>\n",
       "    <tr style=\"text-align: right;\">\n",
       "      <th></th>\n",
       "      <th>Job Title</th>\n",
       "      <th>Rating</th>\n",
       "      <th>Company Name</th>\n",
       "      <th>Headquarters</th>\n",
       "      <th>Founded</th>\n",
       "      <th>Type of ownership</th>\n",
       "      <th>Industry</th>\n",
       "      <th>Sector</th>\n",
       "      <th>Revenue</th>\n",
       "      <th>Competitors</th>\n",
       "      <th>Easy Apply</th>\n",
       "      <th>Location City</th>\n",
       "      <th>Location State</th>\n",
       "      <th>Est_Salary</th>\n",
       "    </tr>\n",
       "  </thead>\n",
       "  <tbody>\n",
       "    <tr>\n",
       "      <th>0</th>\n",
       "      <td>Data Scientist</td>\n",
       "      <td>3.500000</td>\n",
       "      <td>Hopper</td>\n",
       "      <td>Montreal, Canada</td>\n",
       "      <td>2007</td>\n",
       "      <td>Company - Private</td>\n",
       "      <td>Travel Agencies</td>\n",
       "      <td>Travel &amp; Tourism</td>\n",
       "      <td>Unknown / Non-Applicable</td>\n",
       "      <td>-1</td>\n",
       "      <td>0</td>\n",
       "      <td>New York</td>\n",
       "      <td>NY</td>\n",
       "      <td>146.0</td>\n",
       "    </tr>\n",
       "    <tr>\n",
       "      <th>1</th>\n",
       "      <td>Data Scientist</td>\n",
       "      <td>4.500000</td>\n",
       "      <td>Noom US</td>\n",
       "      <td>New York, NY</td>\n",
       "      <td>2008</td>\n",
       "      <td>Company - Private</td>\n",
       "      <td>Health, Beauty, &amp; Fitness</td>\n",
       "      <td>Consumer Services</td>\n",
       "      <td>Unknown / Non-Applicable</td>\n",
       "      <td>-1</td>\n",
       "      <td>0</td>\n",
       "      <td>New York</td>\n",
       "      <td>NY</td>\n",
       "      <td>146.0</td>\n",
       "    </tr>\n",
       "    <tr>\n",
       "      <th>2</th>\n",
       "      <td>DATA SCIENCE MANAGER</td>\n",
       "      <td>3.283576</td>\n",
       "      <td>Decode_M</td>\n",
       "      <td>New York, NY</td>\n",
       "      <td>-1</td>\n",
       "      <td>Unknown</td>\n",
       "      <td>-1</td>\n",
       "      <td>Unknown</td>\n",
       "      <td>Unknown / Non-Applicable</td>\n",
       "      <td>-1</td>\n",
       "      <td>1</td>\n",
       "      <td>New York</td>\n",
       "      <td>NY</td>\n",
       "      <td>146.0</td>\n",
       "    </tr>\n",
       "    <tr>\n",
       "      <th>3</th>\n",
       "      <td>Data Analyst</td>\n",
       "      <td>3.400000</td>\n",
       "      <td>Sapphire Digital</td>\n",
       "      <td>Lyndhurst, NJ</td>\n",
       "      <td>2019</td>\n",
       "      <td>Company - Private</td>\n",
       "      <td>Internet</td>\n",
       "      <td>Information Technology</td>\n",
       "      <td>Unknown / Non-Applicable</td>\n",
       "      <td>Zocdoc, Healthgrades</td>\n",
       "      <td>0</td>\n",
       "      <td>Lyndhurst</td>\n",
       "      <td>NJ</td>\n",
       "      <td>146.0</td>\n",
       "    </tr>\n",
       "    <tr>\n",
       "      <th>4</th>\n",
       "      <td>DIRECTOR</td>\n",
       "      <td>3.400000</td>\n",
       "      <td>United Entertainment Group</td>\n",
       "      <td>New York, NY</td>\n",
       "      <td>2007</td>\n",
       "      <td>Company - Private</td>\n",
       "      <td>Advertising &amp; Marketing</td>\n",
       "      <td>Business Services</td>\n",
       "      <td>Unknown / Non-Applicable</td>\n",
       "      <td>BBDO, Grey Group, Droga5</td>\n",
       "      <td>0</td>\n",
       "      <td>New York</td>\n",
       "      <td>NY</td>\n",
       "      <td>146.0</td>\n",
       "    </tr>\n",
       "  </tbody>\n",
       "</table>\n",
       "</div>"
      ],
      "text/plain": [
       "              Job Title    Rating                Company Name  \\\n",
       "0        Data Scientist  3.500000                      Hopper   \n",
       "1        Data Scientist  4.500000                     Noom US   \n",
       "2  DATA SCIENCE MANAGER  3.283576                    Decode_M   \n",
       "3          Data Analyst  3.400000            Sapphire Digital   \n",
       "4              DIRECTOR  3.400000  United Entertainment Group   \n",
       "\n",
       "       Headquarters  Founded  Type of ownership                   Industry  \\\n",
       "0  Montreal, Canada     2007  Company - Private            Travel Agencies   \n",
       "1      New York, NY     2008  Company - Private  Health, Beauty, & Fitness   \n",
       "2      New York, NY       -1            Unknown                         -1   \n",
       "3     Lyndhurst, NJ     2019  Company - Private                   Internet   \n",
       "4      New York, NY     2007  Company - Private    Advertising & Marketing   \n",
       "\n",
       "                   Sector                   Revenue               Competitors  \\\n",
       "0        Travel & Tourism  Unknown / Non-Applicable                        -1   \n",
       "1       Consumer Services  Unknown / Non-Applicable                        -1   \n",
       "2                 Unknown  Unknown / Non-Applicable                        -1   \n",
       "3  Information Technology  Unknown / Non-Applicable      Zocdoc, Healthgrades   \n",
       "4       Business Services  Unknown / Non-Applicable  BBDO, Grey Group, Droga5   \n",
       "\n",
       "   Easy Apply Location City Location State  Est_Salary  \n",
       "0           0      New York             NY       146.0  \n",
       "1           0      New York             NY       146.0  \n",
       "2           1      New York             NY       146.0  \n",
       "3           0     Lyndhurst             NJ       146.0  \n",
       "4           0      New York             NY       146.0  "
      ]
     },
     "execution_count": 3,
     "metadata": {},
     "output_type": "execute_result"
    }
   ],
   "source": [
    "datascientist_data.head()"
   ]
  },
  {
   "cell_type": "markdown",
   "metadata": {},
   "source": [
    "**Create dummy variable for modelling task**"
   ]
  },
  {
   "cell_type": "code",
   "execution_count": 4,
   "metadata": {},
   "outputs": [],
   "source": [
    "df = datascientist_data[(datascientist_data['Job Title'] == 'Data Scientist') \n",
    "                       | (datascientist_data['Job Title'] == 'Data Engineer') \n",
    "                       | (datascientist_data['Job Title'] == 'Data Analyst') ] "
   ]
  },
  {
   "cell_type": "code",
   "execution_count": 5,
   "metadata": {
    "scrolled": true
   },
   "outputs": [
    {
     "data": {
      "text/plain": [
       "Job Title            0\n",
       "Rating               0\n",
       "Company Name         0\n",
       "Headquarters         0\n",
       "Founded              0\n",
       "Type of ownership    0\n",
       "Industry             0\n",
       "Sector               0\n",
       "Revenue              0\n",
       "Competitors          0\n",
       "Easy Apply           0\n",
       "Location City        0\n",
       "Location State       0\n",
       "Est_Salary           0\n",
       "dtype: int64"
      ]
     },
     "execution_count": 5,
     "metadata": {},
     "output_type": "execute_result"
    }
   ],
   "source": [
    "df.isnull().sum()"
   ]
  },
  {
   "cell_type": "markdown",
   "metadata": {},
   "source": [
    "create dummy variable of Rating column"
   ]
  },
  {
   "cell_type": "code",
   "execution_count": 6,
   "metadata": {},
   "outputs": [
    {
     "data": {
      "text/html": [
       "<div>\n",
       "<style scoped>\n",
       "    .dataframe tbody tr th:only-of-type {\n",
       "        vertical-align: middle;\n",
       "    }\n",
       "\n",
       "    .dataframe tbody tr th {\n",
       "        vertical-align: top;\n",
       "    }\n",
       "\n",
       "    .dataframe thead th {\n",
       "        text-align: right;\n",
       "    }\n",
       "</style>\n",
       "<table border=\"1\" class=\"dataframe\">\n",
       "  <thead>\n",
       "    <tr style=\"text-align: right;\">\n",
       "      <th></th>\n",
       "      <th>1</th>\n",
       "      <th>2</th>\n",
       "      <th>3</th>\n",
       "      <th>4</th>\n",
       "      <th>5</th>\n",
       "    </tr>\n",
       "  </thead>\n",
       "  <tbody>\n",
       "    <tr>\n",
       "      <th>0</th>\n",
       "      <td>0</td>\n",
       "      <td>0</td>\n",
       "      <td>1</td>\n",
       "      <td>0</td>\n",
       "      <td>0</td>\n",
       "    </tr>\n",
       "    <tr>\n",
       "      <th>1</th>\n",
       "      <td>0</td>\n",
       "      <td>0</td>\n",
       "      <td>0</td>\n",
       "      <td>1</td>\n",
       "      <td>0</td>\n",
       "    </tr>\n",
       "    <tr>\n",
       "      <th>2</th>\n",
       "      <td>0</td>\n",
       "      <td>0</td>\n",
       "      <td>1</td>\n",
       "      <td>0</td>\n",
       "      <td>0</td>\n",
       "    </tr>\n",
       "    <tr>\n",
       "      <th>3</th>\n",
       "      <td>0</td>\n",
       "      <td>0</td>\n",
       "      <td>1</td>\n",
       "      <td>0</td>\n",
       "      <td>0</td>\n",
       "    </tr>\n",
       "    <tr>\n",
       "      <th>4</th>\n",
       "      <td>0</td>\n",
       "      <td>0</td>\n",
       "      <td>1</td>\n",
       "      <td>0</td>\n",
       "      <td>0</td>\n",
       "    </tr>\n",
       "  </tbody>\n",
       "</table>\n",
       "</div>"
      ],
      "text/plain": [
       "   1  2  3  4  5\n",
       "0  0  0  1  0  0\n",
       "1  0  0  0  1  0\n",
       "2  0  0  1  0  0\n",
       "3  0  0  1  0  0\n",
       "4  0  0  1  0  0"
      ]
     },
     "execution_count": 6,
     "metadata": {},
     "output_type": "execute_result"
    }
   ],
   "source": [
    "#datascientist_data['Rating'] = datascientist_data['Rating'].replace(-1, mean)\n",
    "datascientist_data['Rating'] = datascientist_data['Rating'].astype(int).astype('category')\n",
    "\n",
    "pd.get_dummies(datascientist_data['Rating']).head()"
   ]
  },
  {
   "cell_type": "code",
   "execution_count": 7,
   "metadata": {},
   "outputs": [
    {
     "data": {
      "text/plain": [
       "CategoricalDtype(categories=[1, 2, 3, 4, 5], ordered=False)"
      ]
     },
     "execution_count": 7,
     "metadata": {},
     "output_type": "execute_result"
    }
   ],
   "source": [
    "datascientist_data['Rating'].dtypes"
   ]
  },
  {
   "cell_type": "markdown",
   "metadata": {},
   "source": [
    "create dummy variable of Easy Apply column"
   ]
  },
  {
   "cell_type": "code",
   "execution_count": 8,
   "metadata": {},
   "outputs": [
    {
     "data": {
      "text/html": [
       "<div>\n",
       "<style scoped>\n",
       "    .dataframe tbody tr th:only-of-type {\n",
       "        vertical-align: middle;\n",
       "    }\n",
       "\n",
       "    .dataframe tbody tr th {\n",
       "        vertical-align: top;\n",
       "    }\n",
       "\n",
       "    .dataframe thead th {\n",
       "        text-align: right;\n",
       "    }\n",
       "</style>\n",
       "<table border=\"1\" class=\"dataframe\">\n",
       "  <thead>\n",
       "    <tr style=\"text-align: right;\">\n",
       "      <th></th>\n",
       "      <th>0</th>\n",
       "      <th>1</th>\n",
       "    </tr>\n",
       "  </thead>\n",
       "  <tbody>\n",
       "    <tr>\n",
       "      <th>0</th>\n",
       "      <td>1</td>\n",
       "      <td>0</td>\n",
       "    </tr>\n",
       "    <tr>\n",
       "      <th>1</th>\n",
       "      <td>1</td>\n",
       "      <td>0</td>\n",
       "    </tr>\n",
       "    <tr>\n",
       "      <th>2</th>\n",
       "      <td>0</td>\n",
       "      <td>1</td>\n",
       "    </tr>\n",
       "    <tr>\n",
       "      <th>3</th>\n",
       "      <td>1</td>\n",
       "      <td>0</td>\n",
       "    </tr>\n",
       "    <tr>\n",
       "      <th>4</th>\n",
       "      <td>1</td>\n",
       "      <td>0</td>\n",
       "    </tr>\n",
       "  </tbody>\n",
       "</table>\n",
       "</div>"
      ],
      "text/plain": [
       "   0  1\n",
       "0  1  0\n",
       "1  1  0\n",
       "2  0  1\n",
       "3  1  0\n",
       "4  1  0"
      ]
     },
     "execution_count": 8,
     "metadata": {},
     "output_type": "execute_result"
    }
   ],
   "source": [
    "datascientist_data['Easy Apply'] = datascientist_data['Easy Apply'].astype('category')\n",
    "pd.get_dummies(datascientist_data['Easy Apply']).head()"
   ]
  },
  {
   "cell_type": "code",
   "execution_count": null,
   "metadata": {},
   "outputs": [],
   "source": []
  },
  {
   "cell_type": "code",
   "execution_count": 9,
   "metadata": {},
   "outputs": [],
   "source": [
    "X = datascientist_data.drop(['Est_Salary'],axis=1, inplace=False)\n",
    "y = datascientist_data['Est_Salary']"
   ]
  },
  {
   "cell_type": "code",
   "execution_count": 10,
   "metadata": {
    "scrolled": true
   },
   "outputs": [
    {
     "data": {
      "text/html": [
       "<div>\n",
       "<style scoped>\n",
       "    .dataframe tbody tr th:only-of-type {\n",
       "        vertical-align: middle;\n",
       "    }\n",
       "\n",
       "    .dataframe tbody tr th {\n",
       "        vertical-align: top;\n",
       "    }\n",
       "\n",
       "    .dataframe thead th {\n",
       "        text-align: right;\n",
       "    }\n",
       "</style>\n",
       "<table border=\"1\" class=\"dataframe\">\n",
       "  <thead>\n",
       "    <tr style=\"text-align: right;\">\n",
       "      <th></th>\n",
       "      <th>Founded</th>\n",
       "      <th>Job Title_ACA</th>\n",
       "      <th>Job Title_ACCOUNTING</th>\n",
       "      <th>Job Title_ADJUNCT FACULTY</th>\n",
       "      <th>Job Title_ADMINISTRATIVE ASSISTANT</th>\n",
       "      <th>Job Title_ADOBE ANALYTICS MANAGER</th>\n",
       "      <th>Job Title_ADVANCED ANALYTICS CONSULTING LEAD</th>\n",
       "      <th>Job Title_AI</th>\n",
       "      <th>Job Title_ANALYTICAL</th>\n",
       "      <th>Job Title_ANALYTICS MANAGER</th>\n",
       "      <th>...</th>\n",
       "      <th>Location State_ CA</th>\n",
       "      <th>Location State_ DE</th>\n",
       "      <th>Location State_ FL</th>\n",
       "      <th>Location State_ IL</th>\n",
       "      <th>Location State_ NJ</th>\n",
       "      <th>Location State_ NY</th>\n",
       "      <th>Location State_ OH</th>\n",
       "      <th>Location State_ PA</th>\n",
       "      <th>Location State_ TX</th>\n",
       "      <th>Location State_ United Kingdom</th>\n",
       "    </tr>\n",
       "  </thead>\n",
       "  <tbody>\n",
       "    <tr>\n",
       "      <th>0</th>\n",
       "      <td>2007</td>\n",
       "      <td>0</td>\n",
       "      <td>0</td>\n",
       "      <td>0</td>\n",
       "      <td>0</td>\n",
       "      <td>0</td>\n",
       "      <td>0</td>\n",
       "      <td>0</td>\n",
       "      <td>0</td>\n",
       "      <td>0</td>\n",
       "      <td>...</td>\n",
       "      <td>0</td>\n",
       "      <td>0</td>\n",
       "      <td>0</td>\n",
       "      <td>0</td>\n",
       "      <td>0</td>\n",
       "      <td>1</td>\n",
       "      <td>0</td>\n",
       "      <td>0</td>\n",
       "      <td>0</td>\n",
       "      <td>0</td>\n",
       "    </tr>\n",
       "    <tr>\n",
       "      <th>1</th>\n",
       "      <td>2008</td>\n",
       "      <td>0</td>\n",
       "      <td>0</td>\n",
       "      <td>0</td>\n",
       "      <td>0</td>\n",
       "      <td>0</td>\n",
       "      <td>0</td>\n",
       "      <td>0</td>\n",
       "      <td>0</td>\n",
       "      <td>0</td>\n",
       "      <td>...</td>\n",
       "      <td>0</td>\n",
       "      <td>0</td>\n",
       "      <td>0</td>\n",
       "      <td>0</td>\n",
       "      <td>0</td>\n",
       "      <td>1</td>\n",
       "      <td>0</td>\n",
       "      <td>0</td>\n",
       "      <td>0</td>\n",
       "      <td>0</td>\n",
       "    </tr>\n",
       "    <tr>\n",
       "      <th>2</th>\n",
       "      <td>-1</td>\n",
       "      <td>0</td>\n",
       "      <td>0</td>\n",
       "      <td>0</td>\n",
       "      <td>0</td>\n",
       "      <td>0</td>\n",
       "      <td>0</td>\n",
       "      <td>0</td>\n",
       "      <td>0</td>\n",
       "      <td>0</td>\n",
       "      <td>...</td>\n",
       "      <td>0</td>\n",
       "      <td>0</td>\n",
       "      <td>0</td>\n",
       "      <td>0</td>\n",
       "      <td>0</td>\n",
       "      <td>1</td>\n",
       "      <td>0</td>\n",
       "      <td>0</td>\n",
       "      <td>0</td>\n",
       "      <td>0</td>\n",
       "    </tr>\n",
       "    <tr>\n",
       "      <th>3</th>\n",
       "      <td>2019</td>\n",
       "      <td>0</td>\n",
       "      <td>0</td>\n",
       "      <td>0</td>\n",
       "      <td>0</td>\n",
       "      <td>0</td>\n",
       "      <td>0</td>\n",
       "      <td>0</td>\n",
       "      <td>0</td>\n",
       "      <td>0</td>\n",
       "      <td>...</td>\n",
       "      <td>0</td>\n",
       "      <td>0</td>\n",
       "      <td>0</td>\n",
       "      <td>0</td>\n",
       "      <td>1</td>\n",
       "      <td>0</td>\n",
       "      <td>0</td>\n",
       "      <td>0</td>\n",
       "      <td>0</td>\n",
       "      <td>0</td>\n",
       "    </tr>\n",
       "    <tr>\n",
       "      <th>4</th>\n",
       "      <td>2007</td>\n",
       "      <td>0</td>\n",
       "      <td>0</td>\n",
       "      <td>0</td>\n",
       "      <td>0</td>\n",
       "      <td>0</td>\n",
       "      <td>0</td>\n",
       "      <td>0</td>\n",
       "      <td>0</td>\n",
       "      <td>0</td>\n",
       "      <td>...</td>\n",
       "      <td>0</td>\n",
       "      <td>0</td>\n",
       "      <td>0</td>\n",
       "      <td>0</td>\n",
       "      <td>0</td>\n",
       "      <td>1</td>\n",
       "      <td>0</td>\n",
       "      <td>0</td>\n",
       "      <td>0</td>\n",
       "      <td>0</td>\n",
       "    </tr>\n",
       "  </tbody>\n",
       "</table>\n",
       "<p>5 rows × 3678 columns</p>\n",
       "</div>"
      ],
      "text/plain": [
       "   Founded  Job Title_ACA  Job Title_ACCOUNTING  Job Title_ADJUNCT FACULTY  \\\n",
       "0     2007              0                     0                          0   \n",
       "1     2008              0                     0                          0   \n",
       "2       -1              0                     0                          0   \n",
       "3     2019              0                     0                          0   \n",
       "4     2007              0                     0                          0   \n",
       "\n",
       "   Job Title_ADMINISTRATIVE ASSISTANT   Job Title_ADOBE ANALYTICS MANAGER  \\\n",
       "0                                    0                                  0   \n",
       "1                                    0                                  0   \n",
       "2                                    0                                  0   \n",
       "3                                    0                                  0   \n",
       "4                                    0                                  0   \n",
       "\n",
       "   Job Title_ADVANCED ANALYTICS CONSULTING LEAD  Job Title_AI  \\\n",
       "0                                             0             0   \n",
       "1                                             0             0   \n",
       "2                                             0             0   \n",
       "3                                             0             0   \n",
       "4                                             0             0   \n",
       "\n",
       "   Job Title_ANALYTICAL  Job Title_ANALYTICS MANAGER  ...  Location State_ CA  \\\n",
       "0                     0                            0  ...                   0   \n",
       "1                     0                            0  ...                   0   \n",
       "2                     0                            0  ...                   0   \n",
       "3                     0                            0  ...                   0   \n",
       "4                     0                            0  ...                   0   \n",
       "\n",
       "   Location State_ DE  Location State_ FL  Location State_ IL  \\\n",
       "0                   0                   0                   0   \n",
       "1                   0                   0                   0   \n",
       "2                   0                   0                   0   \n",
       "3                   0                   0                   0   \n",
       "4                   0                   0                   0   \n",
       "\n",
       "   Location State_ NJ  Location State_ NY  Location State_ OH  \\\n",
       "0                   0                   1                   0   \n",
       "1                   0                   1                   0   \n",
       "2                   0                   1                   0   \n",
       "3                   1                   0                   0   \n",
       "4                   0                   1                   0   \n",
       "\n",
       "   Location State_ PA  Location State_ TX  Location State_ United Kingdom  \n",
       "0                   0                   0                               0  \n",
       "1                   0                   0                               0  \n",
       "2                   0                   0                               0  \n",
       "3                   0                   0                               0  \n",
       "4                   0                   0                               0  \n",
       "\n",
       "[5 rows x 3678 columns]"
      ]
     },
     "execution_count": 10,
     "metadata": {},
     "output_type": "execute_result"
    }
   ],
   "source": [
    "def getDummies(data):\n",
    "    new_data = pd.get_dummies(data=data, drop_first = True)\n",
    "    return new_data\n",
    "\n",
    "X = getDummies(X)\n",
    "X.head()"
   ]
  },
  {
   "cell_type": "markdown",
   "metadata": {},
   "source": [
    "# Train Test Split"
   ]
  },
  {
   "cell_type": "markdown",
   "metadata": {},
   "source": [
    "Training and Test Datasets When fitting models, we would like to ensure two things:\n",
    "\n",
    "We have found the best model (in terms of model parameters). The model is highly likely to generalize i.e. perform well on unseen data.\n",
    "\n",
    "Purpose of splitting data into Training/testing sets We built our model with the requirement that the model fit the data well. As a side-effect, the model will fit THIS dataset well. What about new data? We wanted the model for predictions, right? One simple solution, leave out some data (for testing) and train the model on the rest"
   ]
  },
  {
   "cell_type": "code",
   "execution_count": 11,
   "metadata": {},
   "outputs": [
    {
     "data": {
      "text/html": [
       "<div>\n",
       "<style scoped>\n",
       "    .dataframe tbody tr th:only-of-type {\n",
       "        vertical-align: middle;\n",
       "    }\n",
       "\n",
       "    .dataframe tbody tr th {\n",
       "        vertical-align: top;\n",
       "    }\n",
       "\n",
       "    .dataframe thead th {\n",
       "        text-align: right;\n",
       "    }\n",
       "</style>\n",
       "<table border=\"1\" class=\"dataframe\">\n",
       "  <thead>\n",
       "    <tr style=\"text-align: right;\">\n",
       "      <th></th>\n",
       "      <th>Founded</th>\n",
       "      <th>Job Title_ACA</th>\n",
       "      <th>Job Title_ACCOUNTING</th>\n",
       "      <th>Job Title_ADJUNCT FACULTY</th>\n",
       "      <th>Job Title_ADMINISTRATIVE ASSISTANT</th>\n",
       "      <th>Job Title_ADOBE ANALYTICS MANAGER</th>\n",
       "      <th>Job Title_ADVANCED ANALYTICS CONSULTING LEAD</th>\n",
       "      <th>Job Title_AI</th>\n",
       "      <th>Job Title_ANALYTICAL</th>\n",
       "      <th>Job Title_ANALYTICS MANAGER</th>\n",
       "      <th>...</th>\n",
       "      <th>Location State_ CA</th>\n",
       "      <th>Location State_ DE</th>\n",
       "      <th>Location State_ FL</th>\n",
       "      <th>Location State_ IL</th>\n",
       "      <th>Location State_ NJ</th>\n",
       "      <th>Location State_ NY</th>\n",
       "      <th>Location State_ OH</th>\n",
       "      <th>Location State_ PA</th>\n",
       "      <th>Location State_ TX</th>\n",
       "      <th>Location State_ United Kingdom</th>\n",
       "    </tr>\n",
       "  </thead>\n",
       "  <tbody>\n",
       "    <tr>\n",
       "      <th>3485</th>\n",
       "      <td>1983</td>\n",
       "      <td>0</td>\n",
       "      <td>0</td>\n",
       "      <td>0</td>\n",
       "      <td>0</td>\n",
       "      <td>0</td>\n",
       "      <td>0</td>\n",
       "      <td>0</td>\n",
       "      <td>0</td>\n",
       "      <td>0</td>\n",
       "      <td>...</td>\n",
       "      <td>0</td>\n",
       "      <td>0</td>\n",
       "      <td>0</td>\n",
       "      <td>0</td>\n",
       "      <td>0</td>\n",
       "      <td>0</td>\n",
       "      <td>0</td>\n",
       "      <td>0</td>\n",
       "      <td>1</td>\n",
       "      <td>0</td>\n",
       "    </tr>\n",
       "    <tr>\n",
       "      <th>1456</th>\n",
       "      <td>1983</td>\n",
       "      <td>0</td>\n",
       "      <td>0</td>\n",
       "      <td>0</td>\n",
       "      <td>0</td>\n",
       "      <td>0</td>\n",
       "      <td>0</td>\n",
       "      <td>0</td>\n",
       "      <td>0</td>\n",
       "      <td>0</td>\n",
       "      <td>...</td>\n",
       "      <td>0</td>\n",
       "      <td>0</td>\n",
       "      <td>0</td>\n",
       "      <td>0</td>\n",
       "      <td>0</td>\n",
       "      <td>0</td>\n",
       "      <td>0</td>\n",
       "      <td>0</td>\n",
       "      <td>0</td>\n",
       "      <td>0</td>\n",
       "    </tr>\n",
       "    <tr>\n",
       "      <th>2912</th>\n",
       "      <td>2014</td>\n",
       "      <td>0</td>\n",
       "      <td>0</td>\n",
       "      <td>0</td>\n",
       "      <td>0</td>\n",
       "      <td>0</td>\n",
       "      <td>0</td>\n",
       "      <td>0</td>\n",
       "      <td>0</td>\n",
       "      <td>0</td>\n",
       "      <td>...</td>\n",
       "      <td>1</td>\n",
       "      <td>0</td>\n",
       "      <td>0</td>\n",
       "      <td>0</td>\n",
       "      <td>0</td>\n",
       "      <td>0</td>\n",
       "      <td>0</td>\n",
       "      <td>0</td>\n",
       "      <td>0</td>\n",
       "      <td>0</td>\n",
       "    </tr>\n",
       "    <tr>\n",
       "      <th>1081</th>\n",
       "      <td>-1</td>\n",
       "      <td>0</td>\n",
       "      <td>0</td>\n",
       "      <td>0</td>\n",
       "      <td>0</td>\n",
       "      <td>0</td>\n",
       "      <td>0</td>\n",
       "      <td>0</td>\n",
       "      <td>0</td>\n",
       "      <td>0</td>\n",
       "      <td>...</td>\n",
       "      <td>0</td>\n",
       "      <td>0</td>\n",
       "      <td>0</td>\n",
       "      <td>0</td>\n",
       "      <td>0</td>\n",
       "      <td>0</td>\n",
       "      <td>0</td>\n",
       "      <td>0</td>\n",
       "      <td>1</td>\n",
       "      <td>0</td>\n",
       "    </tr>\n",
       "    <tr>\n",
       "      <th>568</th>\n",
       "      <td>1979</td>\n",
       "      <td>0</td>\n",
       "      <td>0</td>\n",
       "      <td>0</td>\n",
       "      <td>0</td>\n",
       "      <td>0</td>\n",
       "      <td>0</td>\n",
       "      <td>0</td>\n",
       "      <td>0</td>\n",
       "      <td>0</td>\n",
       "      <td>...</td>\n",
       "      <td>1</td>\n",
       "      <td>0</td>\n",
       "      <td>0</td>\n",
       "      <td>0</td>\n",
       "      <td>0</td>\n",
       "      <td>0</td>\n",
       "      <td>0</td>\n",
       "      <td>0</td>\n",
       "      <td>0</td>\n",
       "      <td>0</td>\n",
       "    </tr>\n",
       "  </tbody>\n",
       "</table>\n",
       "<p>5 rows × 3678 columns</p>\n",
       "</div>"
      ],
      "text/plain": [
       "      Founded  Job Title_ACA  Job Title_ACCOUNTING  Job Title_ADJUNCT FACULTY  \\\n",
       "3485     1983              0                     0                          0   \n",
       "1456     1983              0                     0                          0   \n",
       "2912     2014              0                     0                          0   \n",
       "1081       -1              0                     0                          0   \n",
       "568      1979              0                     0                          0   \n",
       "\n",
       "      Job Title_ADMINISTRATIVE ASSISTANT   Job Title_ADOBE ANALYTICS MANAGER  \\\n",
       "3485                                    0                                  0   \n",
       "1456                                    0                                  0   \n",
       "2912                                    0                                  0   \n",
       "1081                                    0                                  0   \n",
       "568                                     0                                  0   \n",
       "\n",
       "      Job Title_ADVANCED ANALYTICS CONSULTING LEAD  Job Title_AI  \\\n",
       "3485                                             0             0   \n",
       "1456                                             0             0   \n",
       "2912                                             0             0   \n",
       "1081                                             0             0   \n",
       "568                                              0             0   \n",
       "\n",
       "      Job Title_ANALYTICAL  Job Title_ANALYTICS MANAGER  ...  \\\n",
       "3485                     0                            0  ...   \n",
       "1456                     0                            0  ...   \n",
       "2912                     0                            0  ...   \n",
       "1081                     0                            0  ...   \n",
       "568                      0                            0  ...   \n",
       "\n",
       "      Location State_ CA  Location State_ DE  Location State_ FL  \\\n",
       "3485                   0                   0                   0   \n",
       "1456                   0                   0                   0   \n",
       "2912                   1                   0                   0   \n",
       "1081                   0                   0                   0   \n",
       "568                    1                   0                   0   \n",
       "\n",
       "      Location State_ IL  Location State_ NJ  Location State_ NY  \\\n",
       "3485                   0                   0                   0   \n",
       "1456                   0                   0                   0   \n",
       "2912                   0                   0                   0   \n",
       "1081                   0                   0                   0   \n",
       "568                    0                   0                   0   \n",
       "\n",
       "      Location State_ OH  Location State_ PA  Location State_ TX  \\\n",
       "3485                   0                   0                   1   \n",
       "1456                   0                   0                   0   \n",
       "2912                   0                   0                   0   \n",
       "1081                   0                   0                   1   \n",
       "568                    0                   0                   0   \n",
       "\n",
       "      Location State_ United Kingdom  \n",
       "3485                               0  \n",
       "1456                               0  \n",
       "2912                               0  \n",
       "1081                               0  \n",
       "568                                0  \n",
       "\n",
       "[5 rows x 3678 columns]"
      ]
     },
     "execution_count": 11,
     "metadata": {},
     "output_type": "execute_result"
    }
   ],
   "source": [
    "X_train, X_test, y_train, y_test = train_test_split(X,y,test_size=0.2,random_state=47)    \n",
    "X_train.head()"
   ]
  },
  {
   "cell_type": "code",
   "execution_count": 12,
   "metadata": {},
   "outputs": [
    {
     "data": {
      "text/plain": [
       "((3127, 3678), (782, 3678))"
      ]
     },
     "execution_count": 12,
     "metadata": {},
     "output_type": "execute_result"
    }
   ],
   "source": [
    "X_train.shape, X_test.shape"
   ]
  },
  {
   "cell_type": "code",
   "execution_count": 13,
   "metadata": {},
   "outputs": [
    {
     "data": {
      "text/plain": [
       "((3127,), (782,))"
      ]
     },
     "execution_count": 13,
     "metadata": {},
     "output_type": "execute_result"
    }
   ],
   "source": [
    "y_train.shape,y_test.shape"
   ]
  },
  {
   "cell_type": "markdown",
   "metadata": {},
   "source": [
    "A good place to start is to see how good the mean is as a predictor. In other words, what if you simply say our best guess is the average salary"
   ]
  },
  {
   "cell_type": "code",
   "execution_count": 14,
   "metadata": {},
   "outputs": [
    {
     "data": {
      "text/plain": [
       "108.13383434601855"
      ]
     },
     "execution_count": 14,
     "metadata": {},
     "output_type": "execute_result"
    }
   ],
   "source": [
    "#Calculate the mean of `y_train`\n",
    "train_mean = y_train.mean()\n",
    "train_mean"
   ]
  },
  {
   "cell_type": "markdown",
   "metadata": {},
   "source": [
    "sklearn's DummyRegressor easily does the same task"
   ]
  },
  {
   "cell_type": "code",
   "execution_count": 15,
   "metadata": {},
   "outputs": [
    {
     "data": {
      "text/plain": [
       "array([[108.13383435]])"
      ]
     },
     "execution_count": 15,
     "metadata": {},
     "output_type": "execute_result"
    }
   ],
   "source": [
    "#Fit the dummy regressor on the training data\n",
    "dumb_reg = DummyRegressor(strategy='mean')\n",
    "dumb_reg.fit(X_train, y_train)\n",
    "dumb_reg.constant_"
   ]
  },
  {
   "cell_type": "markdown",
   "metadata": {},
   "source": [
    "# Matrics"
   ]
  },
  {
   "cell_type": "code",
   "execution_count": 16,
   "metadata": {},
   "outputs": [
    {
     "data": {
      "text/plain": [
       "RandomForestRegressor(random_state=42)"
      ]
     },
     "execution_count": 16,
     "metadata": {},
     "output_type": "execute_result"
    }
   ],
   "source": [
    "#create randomforrest Model\n",
    "from sklearn.ensemble import RandomForestRegressor\n",
    "# Instantiate model with 100 decision trees\n",
    "rf = RandomForestRegressor(n_estimators = 100, random_state = 42)\n",
    "# Train the model on training data\n",
    "rf.fit(X_train, y_train)"
   ]
  },
  {
   "cell_type": "code",
   "execution_count": 17,
   "metadata": {},
   "outputs": [
    {
     "data": {
      "text/plain": [
       "array([108.13383435, 108.13383435, 108.13383435, 108.13383435,\n",
       "       108.13383435])"
      ]
     },
     "execution_count": 17,
     "metadata": {},
     "output_type": "execute_result"
    }
   ],
   "source": [
    "y_tr_pred = dumb_reg.predict(X_train)\n",
    "y_tr_pred[:5]"
   ]
  },
  {
   "cell_type": "markdown",
   "metadata": {},
   "source": [
    "#### Mean Absolute Error"
   ]
  },
  {
   "cell_type": "code",
   "execution_count": 18,
   "metadata": {},
   "outputs": [
    {
     "name": "stdout",
     "output_type": "stream",
     "text": [
      "Mean Absolute Error: 24.21\n"
     ]
    }
   ],
   "source": [
    "# Use the forest's predict method on the test data\n",
    "predictions = rf.predict(X_test)#y_pred\n",
    "# Calculate the absolute errors\n",
    "errors = abs(predictions - y_test)\n",
    "# Print out the mean absolute error (mae)\n",
    "print('Mean Absolute Error:', round(np.mean(errors), 2))\n"
   ]
  },
  {
   "cell_type": "code",
   "execution_count": 19,
   "metadata": {},
   "outputs": [],
   "source": [
    "def mae(y, ypred):\n",
    "    \"\"\"Mean absolute error.\n",
    "    \n",
    "    Calculate the mean absolute error of the arguments\n",
    "\n",
    "    Arguments:\n",
    "    y -- the observed values\n",
    "    predction -- the predicted values\n",
    "    \"\"\"\n",
    "    abs_error = np.abs(y - ypred)\n",
    "    mae = np.mean(abs_error)\n",
    "    return mae"
   ]
  },
  {
   "cell_type": "code",
   "execution_count": 20,
   "metadata": {},
   "outputs": [
    {
     "data": {
      "text/plain": [
       "24.20774040743582"
      ]
     },
     "execution_count": 20,
     "metadata": {},
     "output_type": "execute_result"
    }
   ],
   "source": [
    "mae(y_test,predictions )"
   ]
  },
  {
   "cell_type": "markdown",
   "metadata": {},
   "source": [
    "#### Mean absolute percentage Accuracy (MAPE"
   ]
  },
  {
   "cell_type": "code",
   "execution_count": 21,
   "metadata": {},
   "outputs": [
    {
     "name": "stdout",
     "output_type": "stream",
     "text": [
      "Mean absolute percentage Accuracy (MAPE): 74.82 %.\n",
      "Mean absolute percentage error (MAPE): 25.18 %.\n"
     ]
    }
   ],
   "source": [
    "# Calculate mean absolute percentage error (MAPE)\n",
    "mape = 100 * (errors / y_test)\n",
    "# Calculate and display accuracy\n",
    "accuracy = 100 - np.mean(mape)\n",
    "print('Mean absolute percentage Accuracy (MAPE):', round(accuracy, 2), '%.')\n",
    "print('Mean absolute percentage error (MAPE):', round(np.mean(mape), 2), '%.')"
   ]
  },
  {
   "cell_type": "markdown",
   "metadata": {},
   "source": [
    "#### Mean squared error"
   ]
  },
  {
   "cell_type": "code",
   "execution_count": 22,
   "metadata": {},
   "outputs": [
    {
     "name": "stdout",
     "output_type": "stream",
     "text": [
      "Mean Squared Error 997.2646190371646\n"
     ]
    }
   ],
   "source": [
    "from sklearn.metrics import mean_squared_error \n",
    "MSE = mean_squared_error(y_test,predictions)\n",
    "\n",
    "print('Mean Squared Error',MSE)"
   ]
  },
  {
   "cell_type": "markdown",
   "metadata": {},
   "source": [
    "To convert this back to our measurement space, we often take the square root, to form the root mean square error:"
   ]
  },
  {
   "cell_type": "code",
   "execution_count": 23,
   "metadata": {},
   "outputs": [
    {
     "data": {
      "text/plain": [
       "31.5794968141857"
      ]
     },
     "execution_count": 23,
     "metadata": {},
     "output_type": "execute_result"
    }
   ],
   "source": [
    "np.sqrt(MSE)"
   ]
  },
  {
   "cell_type": "code",
   "execution_count": 24,
   "metadata": {},
   "outputs": [],
   "source": [
    "featuredata = rf.feature_importances_\n",
    "X_col_list =  X.columns.to_list()"
   ]
  },
  {
   "cell_type": "code",
   "execution_count": 25,
   "metadata": {},
   "outputs": [
    {
     "data": {
      "text/html": [
       "<div>\n",
       "<style scoped>\n",
       "    .dataframe tbody tr th:only-of-type {\n",
       "        vertical-align: middle;\n",
       "    }\n",
       "\n",
       "    .dataframe tbody tr th {\n",
       "        vertical-align: top;\n",
       "    }\n",
       "\n",
       "    .dataframe thead th {\n",
       "        text-align: right;\n",
       "    }\n",
       "</style>\n",
       "<table border=\"1\" class=\"dataframe\">\n",
       "  <thead>\n",
       "    <tr style=\"text-align: right;\">\n",
       "      <th></th>\n",
       "      <th>ColLabel</th>\n",
       "      <th>FeatureImp</th>\n",
       "    </tr>\n",
       "  </thead>\n",
       "  <tbody>\n",
       "    <tr>\n",
       "      <th>3668</th>\n",
       "      <td>Location State_ CA</td>\n",
       "      <td>0.164717</td>\n",
       "    </tr>\n",
       "    <tr>\n",
       "      <th>3673</th>\n",
       "      <td>Location State_ NY</td>\n",
       "      <td>0.093677</td>\n",
       "    </tr>\n",
       "    <tr>\n",
       "      <th>3625</th>\n",
       "      <td>Location City_San Diego</td>\n",
       "      <td>0.055177</td>\n",
       "    </tr>\n",
       "    <tr>\n",
       "      <th>0</th>\n",
       "      <td>Founded</td>\n",
       "      <td>0.036065</td>\n",
       "    </tr>\n",
       "    <tr>\n",
       "      <th>3572</th>\n",
       "      <td>Location City_Los Angeles</td>\n",
       "      <td>0.016858</td>\n",
       "    </tr>\n",
       "    <tr>\n",
       "      <th>132</th>\n",
       "      <td>Job Title_Data Scientist</td>\n",
       "      <td>0.016849</td>\n",
       "    </tr>\n",
       "    <tr>\n",
       "      <th>130</th>\n",
       "      <td>Job Title_Data Analyst</td>\n",
       "      <td>0.010932</td>\n",
       "    </tr>\n",
       "    <tr>\n",
       "      <th>131</th>\n",
       "      <td>Job Title_Data Engineer</td>\n",
       "      <td>0.010296</td>\n",
       "    </tr>\n",
       "    <tr>\n",
       "      <th>3489</th>\n",
       "      <td>Location City_Austin</td>\n",
       "      <td>0.008397</td>\n",
       "    </tr>\n",
       "    <tr>\n",
       "      <th>3504</th>\n",
       "      <td>Location City_Burbank</td>\n",
       "      <td>0.007970</td>\n",
       "    </tr>\n",
       "    <tr>\n",
       "      <th>2922</th>\n",
       "      <td>Type of ownership_Nonprofit Organization</td>\n",
       "      <td>0.007158</td>\n",
       "    </tr>\n",
       "    <tr>\n",
       "      <th>3035</th>\n",
       "      <td>Sector_Information Technology</td>\n",
       "      <td>0.006216</td>\n",
       "    </tr>\n",
       "    <tr>\n",
       "      <th>3556</th>\n",
       "      <td>Location City_Houston</td>\n",
       "      <td>0.005336</td>\n",
       "    </tr>\n",
       "    <tr>\n",
       "      <th>3525</th>\n",
       "      <td>Location City_Dallas</td>\n",
       "      <td>0.005233</td>\n",
       "    </tr>\n",
       "    <tr>\n",
       "      <th>3061</th>\n",
       "      <td>Revenue_Unknown / Non-Applicable</td>\n",
       "      <td>0.005204</td>\n",
       "    </tr>\n",
       "    <tr>\n",
       "      <th>2917</th>\n",
       "      <td>Type of ownership_Company - Public</td>\n",
       "      <td>0.004925</td>\n",
       "    </tr>\n",
       "    <tr>\n",
       "      <th>3051</th>\n",
       "      <td>Revenue_$10+ billion (USD)</td>\n",
       "      <td>0.004050</td>\n",
       "    </tr>\n",
       "    <tr>\n",
       "      <th>3028</th>\n",
       "      <td>Sector_Business Services</td>\n",
       "      <td>0.003909</td>\n",
       "    </tr>\n",
       "    <tr>\n",
       "      <th>310</th>\n",
       "      <td>Rating_4</td>\n",
       "      <td>0.003862</td>\n",
       "    </tr>\n",
       "    <tr>\n",
       "      <th>309</th>\n",
       "      <td>Rating_3</td>\n",
       "      <td>0.003817</td>\n",
       "    </tr>\n",
       "    <tr>\n",
       "      <th>2916</th>\n",
       "      <td>Type of ownership_Company - Private</td>\n",
       "      <td>0.003745</td>\n",
       "    </tr>\n",
       "    <tr>\n",
       "      <th>3052</th>\n",
       "      <td>Revenue_$100 to $500 million (USD)</td>\n",
       "      <td>0.003725</td>\n",
       "    </tr>\n",
       "    <tr>\n",
       "      <th>3048</th>\n",
       "      <td>Sector_Unknown</td>\n",
       "      <td>0.003659</td>\n",
       "    </tr>\n",
       "    <tr>\n",
       "      <th>3671</th>\n",
       "      <td>Location State_ IL</td>\n",
       "      <td>0.003554</td>\n",
       "    </tr>\n",
       "    <tr>\n",
       "      <th>3672</th>\n",
       "      <td>Location State_ NJ</td>\n",
       "      <td>0.003505</td>\n",
       "    </tr>\n",
       "  </tbody>\n",
       "</table>\n",
       "</div>"
      ],
      "text/plain": [
       "                                      ColLabel  FeatureImp\n",
       "3668                        Location State_ CA    0.164717\n",
       "3673                        Location State_ NY    0.093677\n",
       "3625                   Location City_San Diego    0.055177\n",
       "0                                      Founded    0.036065\n",
       "3572                 Location City_Los Angeles    0.016858\n",
       "132                   Job Title_Data Scientist    0.016849\n",
       "130                     Job Title_Data Analyst    0.010932\n",
       "131                    Job Title_Data Engineer    0.010296\n",
       "3489                      Location City_Austin    0.008397\n",
       "3504                     Location City_Burbank    0.007970\n",
       "2922  Type of ownership_Nonprofit Organization    0.007158\n",
       "3035             Sector_Information Technology    0.006216\n",
       "3556                     Location City_Houston    0.005336\n",
       "3525                      Location City_Dallas    0.005233\n",
       "3061          Revenue_Unknown / Non-Applicable    0.005204\n",
       "2917        Type of ownership_Company - Public    0.004925\n",
       "3051                Revenue_$10+ billion (USD)    0.004050\n",
       "3028                  Sector_Business Services    0.003909\n",
       "310                                   Rating_4    0.003862\n",
       "309                                   Rating_3    0.003817\n",
       "2916       Type of ownership_Company - Private    0.003745\n",
       "3052        Revenue_$100 to $500 million (USD)    0.003725\n",
       "3048                            Sector_Unknown    0.003659\n",
       "3671                        Location State_ IL    0.003554\n",
       "3672                        Location State_ NJ    0.003505"
      ]
     },
     "execution_count": 25,
     "metadata": {},
     "output_type": "execute_result"
    }
   ],
   "source": [
    "featureDf = {'ColLabel' : X_col_list,\n",
    "            'FeatureImp' : featuredata }\n",
    "featureDf = pd.DataFrame(featureDf) \n",
    "featureDf =  featureDf.sort_values(by='FeatureImp', ascending=False).head(25)\n",
    "featureDf # Save"
   ]
  },
  {
   "cell_type": "code",
   "execution_count": 26,
   "metadata": {},
   "outputs": [
    {
     "data": {
      "image/png": "[encoded data removed]",
      "text/plain": [
       "<Figure size 720x720 with 1 Axes>"
      ]
     },
     "metadata": {
      "needs_background": "light"
     },
     "output_type": "display_data"
    }
   ],
   "source": [
    "p1 = max(max(predictions), max(y_test))\n",
    "p2 = min(min(predictions), min(y_test))\n",
    "plt.figure(figsize=(10,10))\n",
    "plt.scatter(y_test, predictions, c='crimson')\n",
    "plt.plot([p1, p2],  [p1, p2], 'g-')\n",
    "plt.xlabel('True Values', fontsize=15)\n",
    "plt.ylabel('Predictions', fontsize=15)\n",
    "#plt.axis('equal')\n",
    "plt.show()"
   ]
  },
  {
   "cell_type": "markdown",
   "metadata": {},
   "source": [
    "#### Residual plot actual vs Predicted"
   ]
  },
  {
   "cell_type": "code",
   "execution_count": 27,
   "metadata": {},
   "outputs": [],
   "source": [
    "residuals = y_test-predictions\n"
   ]
  },
  {
   "cell_type": "code",
   "execution_count": 28,
   "metadata": {},
   "outputs": [
    {
     "data": {
      "image/png": "[encoded data removed]",
      "text/plain": [
       "<Figure size 432x288 with 1 Axes>"
      ]
     },
     "metadata": {
      "needs_background": "light"
     },
     "output_type": "display_data"
    }
   ],
   "source": [
    "plt.scatter(predictions, residuals)\n",
    "plt.scatter(y_test,residuals)\n",
    "plt.show()"
   ]
  },
  {
   "cell_type": "code",
   "execution_count": 29,
   "metadata": {},
   "outputs": [
    {
     "name": "stderr",
     "output_type": "stream",
     "text": [
      "E:\\anaconda\\lib\\site-packages\\seaborn\\distributions.py:2551: FutureWarning: `distplot` is a deprecated function and will be removed in a future version. Please adapt your code to use either `displot` (a figure-level function with similar flexibility) or `histplot` (an axes-level function for histograms).\n",
      "  warnings.warn(msg, FutureWarning)\n"
     ]
    },
    {
     "data": {
      "image/png": "[encoded data removed]",
      "text/plain": [
       "<Figure size 432x288 with 1 Axes>"
      ]
     },
     "metadata": {
      "needs_background": "light"
     },
     "output_type": "display_data"
    }
   ],
   "source": [
    "sns.distplot(residuals, bins = 10) #histplot\n",
    "plt.title('Error Terms', fontsize=20)           \n",
    "plt.xlabel('Residuals', fontsize = 15)     \n",
    "plt.show()"
   ]
  },
  {
   "cell_type": "code",
   "execution_count": 30,
   "metadata": {},
   "outputs": [],
   "source": [
    "#Alternate way\n",
    "#FinalDf2 = X.copy()\n",
    "#FinalDf2['Est_Salary']  = datascientist_data['Est_Salary']\n",
    "#FinalDf2.info()"
   ]
  },
  {
   "cell_type": "code",
   "execution_count": 31,
   "metadata": {},
   "outputs": [
    {
     "name": "stdout",
     "output_type": "stream",
     "text": [
      "<class 'pandas.core.frame.DataFrame'>\n",
      "RangeIndex: 3909 entries, 0 to 3908\n",
      "Data columns (total 26 columns):\n",
      " #   Column                                    Non-Null Count  Dtype  \n",
      "---  ------                                    --------------  -----  \n",
      " 0   Location State_ CA                        3909 non-null   uint8  \n",
      " 1   Location State_ NY                        3909 non-null   uint8  \n",
      " 2   Location City_San Diego                   3909 non-null   uint8  \n",
      " 3   Founded                                   3909 non-null   int64  \n",
      " 4   Location City_Los Angeles                 3909 non-null   uint8  \n",
      " 5   Job Title_Data Scientist                  3909 non-null   uint8  \n",
      " 6   Job Title_Data Analyst                    3909 non-null   uint8  \n",
      " 7   Job Title_Data Engineer                   3909 non-null   uint8  \n",
      " 8   Location City_Austin                      3909 non-null   uint8  \n",
      " 9   Location City_Burbank                     3909 non-null   uint8  \n",
      " 10  Type of ownership_Nonprofit Organization  3909 non-null   uint8  \n",
      " 11  Sector_Information Technology             3909 non-null   uint8  \n",
      " 12  Location City_Houston                     3909 non-null   uint8  \n",
      " 13  Location City_Dallas                      3909 non-null   uint8  \n",
      " 14  Revenue_Unknown / Non-Applicable          3909 non-null   uint8  \n",
      " 15  Type of ownership_Company - Public        3909 non-null   uint8  \n",
      " 16  Revenue_$10+ billion (USD)                3909 non-null   uint8  \n",
      " 17  Sector_Business Services                  3909 non-null   uint8  \n",
      " 18  Rating_4                                  3909 non-null   uint8  \n",
      " 19  Rating_3                                  3909 non-null   uint8  \n",
      " 20  Type of ownership_Company - Private       3909 non-null   uint8  \n",
      " 21  Revenue_$100 to $500 million (USD)        3909 non-null   uint8  \n",
      " 22  Sector_Unknown                            3909 non-null   uint8  \n",
      " 23  Location State_ IL                        3909 non-null   uint8  \n",
      " 24  Location State_ NJ                        3909 non-null   uint8  \n",
      " 25  Est_Salary                                3909 non-null   float64\n",
      "dtypes: float64(1), int64(1), uint8(24)\n",
      "memory usage: 152.8 KB\n"
     ]
    },
    {
     "name": "stderr",
     "output_type": "stream",
     "text": [
      "E:\\anaconda\\lib\\site-packages\\ipykernel_launcher.py:3: SettingWithCopyWarning: \n",
      "A value is trying to be set on a copy of a slice from a DataFrame.\n",
      "Try using .loc[row_indexer,col_indexer] = value instead\n",
      "\n",
      "See the caveats in the documentation: https://pandas.pydata.org/pandas-docs/stable/user_guide/indexing.html#returning-a-view-versus-a-copy\n",
      "  This is separate from the ipykernel package so we can avoid doing imports until\n"
     ]
    }
   ],
   "source": [
    "\n",
    "Col_list = featureDf.ColLabel.to_list()\n",
    "FinalDf = X[Col_list]\n",
    "FinalDf['Est_Salary']  = datascientist_data['Est_Salary']\n",
    "FinalDf.info()"
   ]
  },
  {
   "cell_type": "code",
   "execution_count": 32,
   "metadata": {},
   "outputs": [],
   "source": [
    "import os\n",
    "datapath = 'raw_data'\n",
    "# renaming the output data directory and re-running this notebook, for example,\n",
    "# will recreate this (empty) directory and resave the data files.\n",
    "# NB this is not a substitute for a modern data pipeline, for which there are\n",
    "# various tools. However, for our purposes here, and often in a \"one off\" analysis,\n",
    "# this is useful because we have to deliberately move/delete our data in order\n",
    "# to overwrite it.\n",
    "if not os.path.exists(datapath):\n",
    "    os.mkdir(datapath)"
   ]
  },
  {
   "cell_type": "code",
   "execution_count": 33,
   "metadata": {
    "scrolled": true
   },
   "outputs": [
    {
     "name": "stdout",
     "output_type": "stream",
     "text": [
      "raw_data\\datascientist_data_step4a_features.csv\n"
     ]
    }
   ],
   "source": [
    "datapath_datascientist_data = os.path.join(datapath, 'datascientist_data_step4_features.csv')\n",
    "\n",
    "print(datapath_datascientist_data)\n",
    "if not os.path.exists(datapath_datascientist_data):\n",
    "    FinalDf.to_csv(datapath_datascientist_data, index=False)\n",
    "    \n",
    "    "
   ]
  },
  {
   "cell_type": "markdown",
   "metadata": {},
   "source": [
    "## Alternate way to output complete dataset"
   ]
  },
  {
   "cell_type": "code",
   "execution_count": 34,
   "metadata": {},
   "outputs": [],
   "source": [
    "#datapath_datascientist_data = os.path.join(datapath, 'datascientist_data_step4b_features.csv')\n",
    "\n",
    "#print(datapath_datascientist_data)\n",
    "#if not os.path.exists(datapath_datascientist_data):\n",
    "#    FinalDf2.to_csv(datapath_datascientist_data, index=False)\n",
    "    "
   ]
  },
  {
   "cell_type": "code",
   "execution_count": null,
   "metadata": {},
   "outputs": [],
   "source": []
  }
 ],
 "metadata": {
  "kernelspec": {
   "display_name": "Python 3",
   "language": "python",
   "name": "python3"
  },
  "language_info": {
   "codemirror_mode": {
    "name": "ipython",
    "version": 3
   },
   "file_extension": ".py",
   "mimetype": "text/x-python",
   "name": "python",
   "nbconvert_exporter": "python",
   "pygments_lexer": "ipython3",
   "version": "3.7.9"
  }
 },
 "nbformat": 4,
 "nbformat_minor": 4
}
